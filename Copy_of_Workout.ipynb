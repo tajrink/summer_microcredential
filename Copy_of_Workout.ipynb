{
  "nbformat": 4,
  "nbformat_minor": 0,
  "metadata": {
    "colab": {
      "provenance": [],
      "include_colab_link": true
    },
    "kernelspec": {
      "name": "python3",
      "display_name": "Python 3"
    },
    "language_info": {
      "name": "python"
    }
  },
  "cells": [
    {
      "cell_type": "markdown",
      "metadata": {
        "id": "view-in-github",
        "colab_type": "text"
      },
      "source": [
        "<a href=\"https://colab.research.google.com/github/tajrink/summer_microcredential/blob/main/Copy_of_Workout.ipynb\" target=\"_parent\"><img src=\"https://colab.research.google.com/assets/colab-badge.svg\" alt=\"Open In Colab\"/></a>"
      ]
    },
    {
      "cell_type": "markdown",
      "source": [
        "##Python practice problems"
      ],
      "metadata": {
        "id": "L6lthZ2HoYVb"
      }
    },
    {
      "cell_type": "markdown",
      "source": [
        "##Display numbers divisible by 5 from a list"
      ],
      "metadata": {
        "id": "ScWuG9IloryZ"
      }
    },
    {
      "cell_type": "code",
      "source": [
        "#Always remember to add description, created by, input and output after 'def'.\n",
        "def numbers_divisible_by_5(n):\n",
        "  \"\"\"\n",
        "  Description: This fucntion prints out numbers dividible by 5 from a given list of numbers\n",
        "  Created by: Hazel\n",
        "  Input: list of numbers\n",
        "  Output: Numbers divisible  by 5 from a given list\n",
        "  \"\"\"\n",
        "  num = []\n",
        "  for i in n:\n",
        "    if i % 5 == 0:\n",
        "      num.append(i)\n",
        "  return(num)"
      ],
      "metadata": {
        "id": "6js9GAk-oxFa"
      },
      "execution_count": null,
      "outputs": []
    },
    {
      "cell_type": "code",
      "source": [
        "help(numbers_divisible_by_5)"
      ],
      "metadata": {
        "colab": {
          "base_uri": "https://localhost:8080/"
        },
        "id": "gZU0vloQoxDR",
        "outputId": "7e3cd289-9b3b-4644-9ada-299eebdf1400"
      },
      "execution_count": null,
      "outputs": [
        {
          "output_type": "stream",
          "name": "stdout",
          "text": [
            "Help on function numbers_divisible_by_5 in module __main__:\n",
            "\n",
            "numbers_divisible_by_5(n)\n",
            "    Description: This fucntion prints out numbers dividible by 5 from a given list of numbers\n",
            "    Created by: Hazel\n",
            "    Input: list of numbers\n",
            "    Output: Numbers divisible  by 5 from a given list\n",
            "\n"
          ]
        }
      ]
    },
    {
      "cell_type": "code",
      "source": [
        "numbers_divisible_by_5([5,15,23,33,27,12,30])"
      ],
      "metadata": {
        "colab": {
          "base_uri": "https://localhost:8080/"
        },
        "id": "25TryJefoxAz",
        "outputId": "7d1453eb-4f0d-4c86-d434-cb2fac7c2f3b"
      },
      "execution_count": null,
      "outputs": [
        {
          "output_type": "execute_result",
          "data": {
            "text/plain": [
              "[5, 15, 30]"
            ]
          },
          "metadata": {},
          "execution_count": 8
        }
      ]
    },
    {
      "cell_type": "markdown",
      "source": [
        "##Check if the first and the last number is the same"
      ],
      "metadata": {
        "id": "H3NnSoUnow-d"
      }
    },
    {
      "cell_type": "code",
      "source": [
        "my_list = [1,2,3,4,5,6,7,8,9,1]"
      ],
      "metadata": {
        "id": "d1H9eCdfow8X"
      },
      "execution_count": null,
      "outputs": []
    },
    {
      "cell_type": "code",
      "source": [
        "if my_list[0] == my_list[-1]:\n",
        " print(\"This is true!\")\n",
        "else:\n",
        "   print(\"This is false!\")"
      ],
      "metadata": {
        "colab": {
          "base_uri": "https://localhost:8080/"
        },
        "id": "0wVISjt1rjH2",
        "outputId": "b564c829-b4b2-4826-fb44-66d5100936b6"
      },
      "execution_count": null,
      "outputs": [
        {
          "output_type": "stream",
          "name": "stdout",
          "text": [
            "This is true!\n"
          ]
        }
      ]
    },
    {
      "cell_type": "code",
      "source": [
        "if my_list[0] == my_list[-1]:\n",
        " print(\"This is true!\")\n",
        "else:\n",
        "   print(\"This is false!\")"
      ],
      "metadata": {
        "colab": {
          "base_uri": "https://localhost:8080/"
        },
        "id": "YZExufLRrjFr",
        "outputId": "ba70fce1-e427-4dbb-d9a1-2f1a9c552936"
      },
      "execution_count": null,
      "outputs": [
        {
          "output_type": "stream",
          "name": "stdout",
          "text": [
            "This is true!\n"
          ]
        }
      ]
    },
    {
      "cell_type": "markdown",
      "source": [
        "##Display the first and last colors from a given list\n",
        "\n"
      ],
      "metadata": {
        "id": "mbm1uq25ow6F"
      }
    },
    {
      "cell_type": "code",
      "source": [
        "#In this problem we created a string that displays the first and last color given from the list below.\n",
        "my_colors = ['red','green','yellow','pink']\n",
        "print(my_colors[0] + \" and \" + my_colors[-1])"
      ],
      "metadata": {
        "colab": {
          "base_uri": "https://localhost:8080/"
        },
        "id": "nr2GbKuUow1T",
        "outputId": "efa969c9-f756-493d-b5c8-6456a4e6ecb6"
      },
      "execution_count": null,
      "outputs": [
        {
          "output_type": "stream",
          "name": "stdout",
          "text": [
            "red and pink\n"
          ]
        }
      ]
    },
    {
      "cell_type": "markdown",
      "source": [
        "##Input an integer (n) and computes the value of n+nn+nnn\n"
      ],
      "metadata": {
        "id": "6sNwE_btowy1"
      }
    },
    {
      "cell_type": "code",
      "source": [
        "x = int(input(\"Input an integer: \"))\n",
        "n1 = int(\"%s\" %x)\n",
        "n2 = int(\"%s%s\"% (x,x))\n",
        "n3 = int(\"%s%s%s\" % (x,x,x))\n",
        "print(\"Your output is:\",n1+n2+n3)"
      ],
      "metadata": {
        "colab": {
          "base_uri": "https://localhost:8080/"
        },
        "id": "4WOwqTpc0hw-",
        "outputId": "656b5a3a-831c-4015-e01d-002f019120a3"
      },
      "execution_count": null,
      "outputs": [
        {
          "output_type": "stream",
          "name": "stdout",
          "text": [
            "Input an integer: 3\n",
            "Your output is: 369\n"
          ]
        }
      ]
    },
    {
      "cell_type": "code",
      "source": [],
      "metadata": {
        "id": "Zvixs3T90hum"
      },
      "execution_count": null,
      "outputs": []
    },
    {
      "cell_type": "code",
      "source": [],
      "metadata": {
        "id": "4G9vioSE0hr4"
      },
      "execution_count": null,
      "outputs": []
    },
    {
      "cell_type": "code",
      "source": [],
      "metadata": {
        "id": "FIipHHIZ0hpY"
      },
      "execution_count": null,
      "outputs": []
    },
    {
      "cell_type": "code",
      "source": [],
      "metadata": {
        "id": "r5DRQq5t0hnI"
      },
      "execution_count": null,
      "outputs": []
    }
  ]
}