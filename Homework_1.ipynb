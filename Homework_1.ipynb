{
  "nbformat": 4,
  "nbformat_minor": 0,
  "metadata": {
    "colab": {
      "name": "Homework 1.ipynb",
      "provenance": [],
      "collapsed_sections": [],
      "include_colab_link": true
    },
    "kernelspec": {
      "name": "python3",
      "display_name": "Python 3"
    },
    "language_info": {
      "name": "python"
    }
  },
  "cells": [
    {
      "cell_type": "markdown",
      "metadata": {
        "id": "view-in-github",
        "colab_type": "text"
      },
      "source": [
        "<a href=\"https://colab.research.google.com/github/tajrink/summer_microcredential/blob/main/Homework_1.ipynb\" target=\"_parent\"><img src=\"https://colab.research.google.com/assets/colab-badge.svg\" alt=\"Open In Colab\"/></a>"
      ]
    },
    {
      "cell_type": "markdown",
      "source": [
        "# Answer all the questions!"
      ],
      "metadata": {
        "id": "FkJsXd8D06Rp"
      }
    },
    {
      "cell_type": "markdown",
      "source": [
        "##Write a Python program to get the volume of a sphere with radius 6"
      ],
      "metadata": {
        "id": "elOgKZR009ex"
      }
    },
    {
      "cell_type": "code",
      "source": [
        "import math\n",
        "r=6 #radius\n",
        "#volume of the sphere\n",
        "volume=4/3*math.pi*r\n",
        "volume"
      ],
      "metadata": {
        "id": "YbhKO6Cs09av",
        "outputId": "21dd9b7d-7b9f-4c2c-ae00-3b7524af1f05",
        "colab": {
          "base_uri": "https://localhost:8080/"
        }
      },
      "execution_count": 11,
      "outputs": [
        {
          "output_type": "execute_result",
          "data": {
            "text/plain": [
              "25.132741228718345"
            ]
          },
          "metadata": {},
          "execution_count": 11
        }
      ]
    },
    {
      "cell_type": "markdown",
      "source": [
        "##Write a Python program to find whether a given number (accept from the user) is even or odd"
      ],
      "metadata": {
        "id": "OuX7aazu09X1"
      }
    },
    {
      "cell_type": "code",
      "source": [
        "#take user input\n",
        "num=int(input(\"enter number:\"))\n",
        "# to check if a number is odd or even\n",
        "if num%2==0:\n",
        "  print(\"even\")\n",
        "else:\n",
        "  print(\"odd\")"
      ],
      "metadata": {
        "id": "vcYhNNaU09Uz",
        "outputId": "741285dd-0a52-491d-b241-697fb0c021a3",
        "colab": {
          "base_uri": "https://localhost:8080/"
        }
      },
      "execution_count": 8,
      "outputs": [
        {
          "output_type": "stream",
          "name": "stdout",
          "text": [
            "enter number:2\n",
            "even\n"
          ]
        }
      ]
    },
    {
      "cell_type": "markdown",
      "source": [
        "##Write a Python program to count the number 4 in a given list"
      ],
      "metadata": {
        "id": "NP5TZKqO09Rr"
      }
    },
    {
      "cell_type": "code",
      "source": [
        "#create a list \n",
        "my_list=[1,2,3,4,5,4,6,4,9,8]\n",
        "#count the number of times 4 was in the list \n",
        "my_list.count(4)\n"
      ],
      "metadata": {
        "id": "oWZ3vTfW09Oh",
        "outputId": "8ce3355c-b676-4a40-8797-4c89f605b54b",
        "colab": {
          "base_uri": "https://localhost:8080/"
        }
      },
      "execution_count": 12,
      "outputs": [
        {
          "output_type": "execute_result",
          "data": {
            "text/plain": [
              "3"
            ]
          },
          "metadata": {},
          "execution_count": 12
        }
      ]
    },
    {
      "cell_type": "markdown",
      "source": [
        "##Write a Python program that will accept the base and height of a triangle and compute the area"
      ],
      "metadata": {
        "id": "IK0FvUoa1MJG"
      }
    },
    {
      "cell_type": "code",
      "source": [
        "#takes the base and the height \n",
        "base=int(input(\"base:\"))\n",
        "height=int(input(\"height:\"))\n",
        "#area of the triangle\n",
        "area=base*height*1/2\n",
        "area"
      ],
      "metadata": {
        "id": "G02dv4rh1MFs",
        "outputId": "79d43c8f-021c-487e-dd4f-d748854b0233",
        "colab": {
          "base_uri": "https://localhost:8080/"
        }
      },
      "execution_count": 9,
      "outputs": [
        {
          "name": "stdout",
          "output_type": "stream",
          "text": [
            "base:3\n",
            "height:4\n"
          ]
        },
        {
          "output_type": "execute_result",
          "data": {
            "text/plain": [
              "6.0"
            ]
          },
          "metadata": {},
          "execution_count": 9
        }
      ]
    },
    {
      "cell_type": "markdown",
      "source": [
        "##Write a Python program to convert the distance (in feet) to inches, yards, and miles."
      ],
      "metadata": {
        "id": "sOkeycZk1L5-"
      }
    },
    {
      "cell_type": "code",
      "source": [
        ""
      ],
      "metadata": {
        "id": "9riJD65KhKzn"
      },
      "execution_count": null,
      "outputs": []
    },
    {
      "cell_type": "code",
      "source": [
        "#takes input as feet \n",
        "feet=int(input(\"distance in feet:\"))\n",
        "\n",
        "#converts feet to inches\n",
        "inches=feet*12\n",
        "inches\n",
        "\n",
        "#converts feet to yard\n",
        "yard=feet/3\n",
        "yard\n",
        "\n",
        "#convert feet to miles\n",
        "miles=feet/5280\n",
        "miles"
      ],
      "metadata": {
        "id": "YtW-ZxqB1L2c",
        "outputId": "e52cbe96-0e5f-426e-c323-2f2bf44d8bc8",
        "colab": {
          "base_uri": "https://localhost:8080/"
        }
      },
      "execution_count": 23,
      "outputs": [
        {
          "name": "stdout",
          "output_type": "stream",
          "text": [
            "distance in feet:5\n"
          ]
        },
        {
          "output_type": "execute_result",
          "data": {
            "text/plain": [
              "0.000946969696969697"
            ]
          },
          "metadata": {},
          "execution_count": 23
        }
      ]
    }
  ]
}