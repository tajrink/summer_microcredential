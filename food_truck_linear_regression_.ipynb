{
  "nbformat": 4,
  "nbformat_minor": 0,
  "metadata": {
    "colab": {
      "name": "food truck linear regression .ipynb",
      "provenance": [],
      "collapsed_sections": [],
      "authorship_tag": "ABX9TyMuX/fn97mlpCJcH6aRJTEV",
      "include_colab_link": true
    },
    "kernelspec": {
      "name": "python3",
      "display_name": "Python 3"
    },
    "language_info": {
      "name": "python"
    }
  },
  "cells": [
    {
      "cell_type": "markdown",
      "metadata": {
        "id": "view-in-github",
        "colab_type": "text"
      },
      "source": [
        "<a href=\"https://colab.research.google.com/github/tajrink/summer_microcredential/blob/main/food_truck_linear_regression_.ipynb\" target=\"_parent\"><img src=\"https://colab.research.google.com/assets/colab-badge.svg\" alt=\"Open In Colab\"/></a>"
      ]
    },
    {
      "cell_type": "code",
      "source": [
        "#task 1:identify the problem"
      ],
      "metadata": {
        "id": "r6uBgYQfdUC2"
      },
      "execution_count": null,
      "outputs": []
    },
    {
      "cell_type": "code",
      "source": [
        "##"
      ],
      "metadata": {
        "id": "92jgPLMkoVa1"
      },
      "execution_count": null,
      "outputs": []
    },
    {
      "cell_type": "code",
      "source": [
        "#task 2:load the libraries"
      ],
      "metadata": {
        "id": "FXqWrmmVdT-a"
      },
      "execution_count": null,
      "outputs": []
    },
    {
      "cell_type": "code",
      "source": [
        "#fix\n",
        "import numpy as np\n",
        "import pandas as pd\n",
        "import matplotlib as plt\n",
        "import seaborn as sns\n"
      ],
      "metadata": {
        "colab": {
          "base_uri": "https://localhost:8080/",
          "height": 202
        },
        "id": "VX-agNiHoV5S",
        "outputId": "125c7bd6-4028-46d4-9766-99204ebb5f5e"
      },
      "execution_count": 2,
      "outputs": [
        {
          "output_type": "error",
          "ename": "NameError",
          "evalue": "ignored",
          "traceback": [
            "\u001b[0;31m---------------------------------------------------------------------------\u001b[0m",
            "\u001b[0;31mNameError\u001b[0m                                 Traceback (most recent call last)",
            "\u001b[0;32m<ipython-input-2-7e4aef61d6c3>\u001b[0m in \u001b[0;36m<module>\u001b[0;34m()\u001b[0m\n\u001b[0;32m----> 1\u001b[0;31m \u001b[0mdata\u001b[0m\u001b[0;34m=\u001b[0m\u001b[0mpd\u001b[0m\u001b[0;34m.\u001b[0m\u001b[0mread_csv\u001b[0m\u001b[0;34m(\u001b[0m\u001b[0;34m'https://github.com/tajrink/data_ml/blob/main/food_truck_data.txt'\u001b[0m\u001b[0;34m)\u001b[0m\u001b[0;34m\u001b[0m\u001b[0;34m\u001b[0m\u001b[0m\n\u001b[0m",
            "\u001b[0;31mNameError\u001b[0m: name 'pd' is not defined"
          ]
        }
      ]
    },
    {
      "cell_type": "code",
      "source": [
        "#task 3:load data csv files from github mostly!"
      ],
      "metadata": {
        "id": "QEkpDNTedT5s"
      },
      "execution_count": null,
      "outputs": []
    },
    {
      "cell_type": "code",
      "source": [
        "data=pd.read_csv('https://github.com/tajrink/data_ml/blob/main/food_truck_data.txt')"
      ],
      "metadata": {
        "id": "fGoB_gX9oWTL"
      },
      "execution_count": null,
      "outputs": []
    },
    {
      "cell_type": "code",
      "source": [
        "#task 4:EDA(exploratory data analysis)"
      ],
      "metadata": {
        "id": "EHSKAdEydT1Y"
      },
      "execution_count": null,
      "outputs": []
    },
    {
      "cell_type": "code",
      "source": [
        "data.head()\n",
        "data.info()\n",
        "data.describe()\n"
      ],
      "metadata": {
        "id": "3a2noTJsoWzT"
      },
      "execution_count": null,
      "outputs": []
    },
    {
      "cell_type": "code",
      "source": [
        "#task 5:data visualization"
      ],
      "metadata": {
        "id": "u161ys3adTwa"
      },
      "execution_count": null,
      "outputs": []
    },
    {
      "cell_type": "code",
      "source": [
        "#fix\n",
        "ax=sns.scatterplot"
      ],
      "metadata": {
        "id": "1SVrNj3HoXiu"
      },
      "execution_count": null,
      "outputs": []
    },
    {
      "cell_type": "code",
      "source": [
        "#task 6:compute the cost function\n",
        "# https://www.analyticsvidhya.com/blog/2021/02/cost-function-is-no-rocket-science/\n"
      ],
      "metadata": {
        "id": "bQtcTwkYdTon"
      },
      "execution_count": null,
      "outputs": []
    },
    {
      "cell_type": "code",
      "source": [
        "def cost_function(X,y,theta):\n",
        "  m=len(y)\n",
        "  y_pred=X.dor(theta)\n",
        "  error=(y_pred-y)**2\n",
        "\n",
        "  return 1/(2*m)*np.sum(error)\n",
        "\n",
        "data.head()\n",
        "\n",
        "data.Population\n",
        "\n",
        "data.Population.values\n",
        "\n",
        "data.Population.values.size\n",
        "\n",
        "m=data.Population.values.size\n",
        "\n",
        "#add another dimension to accumulate the intercept term and set it to all ones\n",
        "X=np.append(np.one((m,1)),data.Population.values.reshape(m,1),axis=1)\n",
        "y=data.profit.values.reshape(m,1)\n",
        "\n",
        "theta=np.zeros((2,1))\n",
        "\n",
        "cost_function(X,y,theta)\n",
        "\n"
      ],
      "metadata": {
        "id": "nRZ-ATHBoYQo"
      },
      "execution_count": null,
      "outputs": []
    },
    {
      "cell_type": "code",
      "source": [
        "#task 7:compute the gradient descent\n",
        "# https://towardsdatascience.com/gradient-descent-algorithm-a-deep-dive-cf04e8115f21\n",
        "# https://en.wikipedia.org/wiki/Gradient_descent\n",
        "# https://towardsdatascience.com/gradient-descent-in-python-a0d07285742f"
      ],
      "metadata": {
        "id": "yS8hZdT9dTjn"
      },
      "execution_count": null,
      "outputs": []
    },
    {
      "cell_type": "code",
      "source": [
        "def Gradient_descent(X,y,theta,alpha,iterations):\n",
        "  m=len(y)\n",
        "  costs=[]\n",
        "  for i in range(iterations):\n",
        "    y_pred=X.dot(theta)\n",
        "    error=np.dot(X.transpose(),(y_pred) -y)\n",
        "    theta -=alpha*1/m *error\n",
        "    costs.append(cost_function(X,y,theta))\n",
        "  \n",
        "  return theta,costs\n",
        "\n",
        "theta,costs=Gradient_descent(X,y,theta,alpha=0.01,iterations=1000)\n",
        "\n",
        "#fix\n",
        "print(\"h(x)={} + {}x1\".format(str(round(theta[0,0],2)),str(round(theta[1,0],2)))) h(x)=-3.24 + 1.13x1\n",
        "costs[999]"
      ],
      "metadata": {
        "id": "0juGUkSooaqr"
      },
      "execution_count": null,
      "outputs": []
    },
    {
      "cell_type": "code",
      "source": [
        "#task 8:visualization"
      ],
      "metadata": {
        "id": "WveYsGCCdTe6"
      },
      "execution_count": null,
      "outputs": []
    },
    {
      "cell_type": "code",
      "source": [
        "from mpl_toolkits.mplot3d import Axes3D\n",
        "\n",
        "theta_0=np.linespace(-10,10,100)\n",
        "theta_1=np.linespace(-1,4,100)\n",
        "\n",
        "cost_values=np.zeros((len(theta_0),len(theta_1)))\n",
        "\n",
        "for i in range(len(theta_0)):\n",
        "  for j in range(len(theta_1)):\n",
        "    t= np.array([theta_0[i],theta_1[j]])\n",
        "    cost_values[i,j]=cost_function(X,y,t)\n",
        "\n",
        "\n",
        "fig=plt.figure(figsize=(12,8))\n",
        "ax=fig.gca(projection='3d')\n",
        "\n",
        "surf=ax.plot_surface(theta_0,theta_1,cost_values,cmap=\"viridis\", linewidth=0.2)\n",
        "fig.colorbar(surf,shrink=0.5,aspect=5)\n",
        "\n",
        "#fix\n",
        "plt.xlabel(\"$\\theta_0\")\n",
        "plt.ylabel(\"$\\theta_1\")\n",
        "ax.set_zlabel(\"theta\")\n",
        "ax.set_title(\"cost \")\n",
        "ax.view_init(30,330)\n",
        "\n",
        "\n"
      ],
      "metadata": {
        "id": "ODS70oPEobAE"
      },
      "execution_count": null,
      "outputs": []
    },
    {
      "cell_type": "code",
      "source": [
        "#task 9:conduct the linear regrestion on the data"
      ],
      "metadata": {
        "id": "seskXjZJdTbD"
      },
      "execution_count": null,
      "outputs": []
    },
    {
      "cell_type": "code",
      "source": [
        "theta=np.squeeze(theta)\n",
        "sns.scatterplot(x=\"population\",y=\"profit\",data=data)\n",
        "\n",
        "x_value=[for x in  ]#fix\n",
        "y_value=[x * theta[1]+theta[2] for x in x_value ]\n",
        "sns.lineplot(x_value,y_value)\n",
        "\n",
        "plt.xlabel('population in 10000s')\n",
        "plt.ylabel('profit in $10,000s')\n",
        "plt.title('linear regression')"
      ],
      "metadata": {
        "id": "f-LhTMRIobqE"
      },
      "execution_count": null,
      "outputs": []
    },
    {
      "cell_type": "code",
      "source": [
        "#task 10:making predictions"
      ],
      "metadata": {
        "id": "2YKrQBQPdTXH"
      },
      "execution_count": null,
      "outputs": []
    },
    {
      "cell_type": "code",
      "source": [
        "def predict(x,theta):\n",
        "  y_pred=np.dot(theta.transpose(),x)\n",
        "  return y_pred\n",
        "\n",
        "pop=int(input('size of population:'))\n",
        "\n",
        "y_pred=predict(np.array([1,8.5]),theta) * 10000\n",
        "print(\"for a population of 85000 the model predict a profit of $\"+ str(round(y_pred,0)))\n"
      ],
      "metadata": {
        "id": "A8ZFgnBEdTP2"
      },
      "execution_count": null,
      "outputs": []
    },
    {
      "cell_type": "code",
      "source": [
        ""
      ],
      "metadata": {
        "id": "dhP1CQPZdTLr"
      },
      "execution_count": null,
      "outputs": []
    },
    {
      "cell_type": "code",
      "source": [
        ""
      ],
      "metadata": {
        "id": "v7O13ap3dTIN"
      },
      "execution_count": null,
      "outputs": []
    },
    {
      "cell_type": "code",
      "source": [
        ""
      ],
      "metadata": {
        "id": "aDOZDbzQdTD6"
      },
      "execution_count": null,
      "outputs": []
    },
    {
      "cell_type": "code",
      "source": [
        ""
      ],
      "metadata": {
        "id": "aI3HriawdTAO"
      },
      "execution_count": null,
      "outputs": []
    },
    {
      "cell_type": "code",
      "source": [
        ""
      ],
      "metadata": {
        "id": "c06MGNrEdS8T"
      },
      "execution_count": null,
      "outputs": []
    },
    {
      "cell_type": "code",
      "source": [
        ""
      ],
      "metadata": {
        "id": "WWLcJr62dS4t"
      },
      "execution_count": null,
      "outputs": []
    },
    {
      "cell_type": "code",
      "source": [
        ""
      ],
      "metadata": {
        "id": "stzKjxZAdSzd"
      },
      "execution_count": null,
      "outputs": []
    },
    {
      "cell_type": "code",
      "source": [
        ""
      ],
      "metadata": {
        "id": "MwgRYw1ldSuy"
      },
      "execution_count": null,
      "outputs": []
    },
    {
      "cell_type": "code",
      "execution_count": null,
      "metadata": {
        "id": "3wDMA7IJdKtj"
      },
      "outputs": [],
      "source": [
        ""
      ]
    }
  ]
}