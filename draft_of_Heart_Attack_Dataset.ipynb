{
  "nbformat": 4,
  "nbformat_minor": 0,
  "metadata": {
    "colab": {
      "name": "draft of Heart Attack Dataset.ipynb",
      "provenance": [],
      "collapsed_sections": [
        "D82swf9mBJmp",
        "zjL3u3pEBf5W",
        "VB5x738FXMDY",
        "Q1QRYi5XCAs2",
        "cjGfafqACIiU",
        "GoSX3gydJqOy"
      ],
      "include_colab_link": true
    },
    "kernelspec": {
      "name": "python3",
      "display_name": "Python 3"
    },
    "language_info": {
      "name": "python"
    }
  },
  "cells": [
    {
      "cell_type": "markdown",
      "metadata": {
        "id": "view-in-github",
        "colab_type": "text"
      },
      "source": [
        "<a href=\"https://colab.research.google.com/github/tajrink/summer_microcredential/blob/main/draft_of_Heart_Attack_Dataset.ipynb\" target=\"_parent\"><img src=\"https://colab.research.google.com/assets/colab-badge.svg\" alt=\"Open In Colab\"/></a>"
      ]
    },
    {
      "cell_type": "markdown",
      "source": [
        "# **Task 1: Identify the problem**\n",
        "\n"
      ],
      "metadata": {
        "id": "byg2UmbZAe9c"
      }
    },
    {
      "cell_type": "markdown",
      "source": [
        "The dataset is publically available and it is from an ongoing cardiovascular study on residents of the town of Framingham, Massachusetts. The classification goal is to predict whether the patient has 10-year risk of future coronary heart disease (CHD).\n",
        "\n",
        "\n"
      ],
      "metadata": {
        "id": "nq7OJl1YCRsL"
      }
    },
    {
      "cell_type": "markdown",
      "source": [
        "# **Task 2: Load the Libraries**\n"
      ],
      "metadata": {
        "id": "3iSt05wuAqTY"
      }
    },
    {
      "cell_type": "code",
      "source": [
        "import numpy as np\n",
        "import pandas as pd\n",
        "import matplotlib.pyplot as plt\n",
        "import seaborn as sns"
      ],
      "metadata": {
        "id": "TXKkxYpmATDd"
      },
      "execution_count": 197,
      "outputs": []
    },
    {
      "cell_type": "markdown",
      "source": [
        "# **Task 3: Load the Data**\n"
      ],
      "metadata": {
        "id": "blqBWAHhA1nc"
      }
    },
    {
      "cell_type": "code",
      "source": [
        "#heart = pd.read_csv('https://raw.githubusercontent.com/saksham657/Summer-Microcredential/main/heart_attack.csv')"
      ],
      "metadata": {
        "id": "KGNEB1u7AS2m"
      },
      "execution_count": 198,
      "outputs": []
    },
    {
      "cell_type": "code",
      "source": [
        "heart = pd.read_csv('https://raw.githubusercontent.com/tajrink/data_ml/main/heart_attack%20-%20heart_attack.csv')"
      ],
      "metadata": {
        "id": "2UDTx0ChGwxj"
      },
      "execution_count": 223,
      "outputs": []
    },
    {
      "cell_type": "markdown",
      "source": [
        "# **Task 4: EDA (Exploratory Data Analysis)**\n",
        "The dataset provides the patients’ information. It includes over 4,000 records and 15 attributes.Each attribute is a potential risk factor.\n"
      ],
      "metadata": {
        "id": "D82swf9mBJmp"
      }
    },
    {
      "cell_type": "code",
      "source": [
        "heart"
      ],
      "metadata": {
        "colab": {
          "base_uri": "https://localhost:8080/",
          "height": 0
        },
        "id": "Z_l_Nb72D-tn",
        "outputId": "c4c2ba44-3345-45f1-b7e4-7d02092e2b8e"
      },
      "execution_count": 200,
      "outputs": [
        {
          "output_type": "execute_result",
          "data": {
            "text/plain": [
              "      male  age  education  current_smoker  cigs_per_day  bp_meds  \\\n",
              "0        1   39          4               0             0        0   \n",
              "1        0   46          2               0             0        0   \n",
              "2        1   48          1               1            20        0   \n",
              "3        0   61          3               1            30        0   \n",
              "4        0   46          3               1            23        0   \n",
              "...    ...  ...        ...             ...           ...      ...   \n",
              "3651     1   58          3               0             0        0   \n",
              "3652     1   68          1               0             0        0   \n",
              "3653     1   50          1               1             1        0   \n",
              "3654     1   51          3               1            43        0   \n",
              "3655     0   52          2               0             0        0   \n",
              "\n",
              "      prevalent_stroke  prevalent_hyp  diabetes  tot_chol  sys_bp  dia_bp  \\\n",
              "0                    0              0         0       195   106.0    70.0   \n",
              "1                    0              0         0       250   121.0    81.0   \n",
              "2                    0              0         0       245   127.5    80.0   \n",
              "3                    0              1         0       225   150.0    95.0   \n",
              "4                    0              0         0       285   130.0    84.0   \n",
              "...                ...            ...       ...       ...     ...     ...   \n",
              "3651                 0              1         0       187   141.0    81.0   \n",
              "3652                 0              1         0       176   168.0    97.0   \n",
              "3653                 0              1         0       313   179.0    92.0   \n",
              "3654                 0              0         0       207   126.5    80.0   \n",
              "3655                 0              0         0       269   133.5    83.0   \n",
              "\n",
              "        bmi  heart_rate  glucose  heart_attack  \n",
              "0     26.97          80       77             0  \n",
              "1     28.73          95       76             0  \n",
              "2     25.34          75       70             0  \n",
              "3     28.58          65      103             1  \n",
              "4     23.10          85       85             0  \n",
              "...     ...         ...      ...           ...  \n",
              "3651  24.96          80       81             0  \n",
              "3652  23.14          60       79             1  \n",
              "3653  25.97          66       86             1  \n",
              "3654  19.71          65       68             0  \n",
              "3655  21.47          80      107             0  \n",
              "\n",
              "[3656 rows x 16 columns]"
            ],
            "text/html": [
              "\n",
              "  <div id=\"df-15292876-824f-4098-8a6f-d634fd64201d\">\n",
              "    <div class=\"colab-df-container\">\n",
              "      <div>\n",
              "<style scoped>\n",
              "    .dataframe tbody tr th:only-of-type {\n",
              "        vertical-align: middle;\n",
              "    }\n",
              "\n",
              "    .dataframe tbody tr th {\n",
              "        vertical-align: top;\n",
              "    }\n",
              "\n",
              "    .dataframe thead th {\n",
              "        text-align: right;\n",
              "    }\n",
              "</style>\n",
              "<table border=\"1\" class=\"dataframe\">\n",
              "  <thead>\n",
              "    <tr style=\"text-align: right;\">\n",
              "      <th></th>\n",
              "      <th>male</th>\n",
              "      <th>age</th>\n",
              "      <th>education</th>\n",
              "      <th>current_smoker</th>\n",
              "      <th>cigs_per_day</th>\n",
              "      <th>bp_meds</th>\n",
              "      <th>prevalent_stroke</th>\n",
              "      <th>prevalent_hyp</th>\n",
              "      <th>diabetes</th>\n",
              "      <th>tot_chol</th>\n",
              "      <th>sys_bp</th>\n",
              "      <th>dia_bp</th>\n",
              "      <th>bmi</th>\n",
              "      <th>heart_rate</th>\n",
              "      <th>glucose</th>\n",
              "      <th>heart_attack</th>\n",
              "    </tr>\n",
              "  </thead>\n",
              "  <tbody>\n",
              "    <tr>\n",
              "      <th>0</th>\n",
              "      <td>1</td>\n",
              "      <td>39</td>\n",
              "      <td>4</td>\n",
              "      <td>0</td>\n",
              "      <td>0</td>\n",
              "      <td>0</td>\n",
              "      <td>0</td>\n",
              "      <td>0</td>\n",
              "      <td>0</td>\n",
              "      <td>195</td>\n",
              "      <td>106.0</td>\n",
              "      <td>70.0</td>\n",
              "      <td>26.97</td>\n",
              "      <td>80</td>\n",
              "      <td>77</td>\n",
              "      <td>0</td>\n",
              "    </tr>\n",
              "    <tr>\n",
              "      <th>1</th>\n",
              "      <td>0</td>\n",
              "      <td>46</td>\n",
              "      <td>2</td>\n",
              "      <td>0</td>\n",
              "      <td>0</td>\n",
              "      <td>0</td>\n",
              "      <td>0</td>\n",
              "      <td>0</td>\n",
              "      <td>0</td>\n",
              "      <td>250</td>\n",
              "      <td>121.0</td>\n",
              "      <td>81.0</td>\n",
              "      <td>28.73</td>\n",
              "      <td>95</td>\n",
              "      <td>76</td>\n",
              "      <td>0</td>\n",
              "    </tr>\n",
              "    <tr>\n",
              "      <th>2</th>\n",
              "      <td>1</td>\n",
              "      <td>48</td>\n",
              "      <td>1</td>\n",
              "      <td>1</td>\n",
              "      <td>20</td>\n",
              "      <td>0</td>\n",
              "      <td>0</td>\n",
              "      <td>0</td>\n",
              "      <td>0</td>\n",
              "      <td>245</td>\n",
              "      <td>127.5</td>\n",
              "      <td>80.0</td>\n",
              "      <td>25.34</td>\n",
              "      <td>75</td>\n",
              "      <td>70</td>\n",
              "      <td>0</td>\n",
              "    </tr>\n",
              "    <tr>\n",
              "      <th>3</th>\n",
              "      <td>0</td>\n",
              "      <td>61</td>\n",
              "      <td>3</td>\n",
              "      <td>1</td>\n",
              "      <td>30</td>\n",
              "      <td>0</td>\n",
              "      <td>0</td>\n",
              "      <td>1</td>\n",
              "      <td>0</td>\n",
              "      <td>225</td>\n",
              "      <td>150.0</td>\n",
              "      <td>95.0</td>\n",
              "      <td>28.58</td>\n",
              "      <td>65</td>\n",
              "      <td>103</td>\n",
              "      <td>1</td>\n",
              "    </tr>\n",
              "    <tr>\n",
              "      <th>4</th>\n",
              "      <td>0</td>\n",
              "      <td>46</td>\n",
              "      <td>3</td>\n",
              "      <td>1</td>\n",
              "      <td>23</td>\n",
              "      <td>0</td>\n",
              "      <td>0</td>\n",
              "      <td>0</td>\n",
              "      <td>0</td>\n",
              "      <td>285</td>\n",
              "      <td>130.0</td>\n",
              "      <td>84.0</td>\n",
              "      <td>23.10</td>\n",
              "      <td>85</td>\n",
              "      <td>85</td>\n",
              "      <td>0</td>\n",
              "    </tr>\n",
              "    <tr>\n",
              "      <th>...</th>\n",
              "      <td>...</td>\n",
              "      <td>...</td>\n",
              "      <td>...</td>\n",
              "      <td>...</td>\n",
              "      <td>...</td>\n",
              "      <td>...</td>\n",
              "      <td>...</td>\n",
              "      <td>...</td>\n",
              "      <td>...</td>\n",
              "      <td>...</td>\n",
              "      <td>...</td>\n",
              "      <td>...</td>\n",
              "      <td>...</td>\n",
              "      <td>...</td>\n",
              "      <td>...</td>\n",
              "      <td>...</td>\n",
              "    </tr>\n",
              "    <tr>\n",
              "      <th>3651</th>\n",
              "      <td>1</td>\n",
              "      <td>58</td>\n",
              "      <td>3</td>\n",
              "      <td>0</td>\n",
              "      <td>0</td>\n",
              "      <td>0</td>\n",
              "      <td>0</td>\n",
              "      <td>1</td>\n",
              "      <td>0</td>\n",
              "      <td>187</td>\n",
              "      <td>141.0</td>\n",
              "      <td>81.0</td>\n",
              "      <td>24.96</td>\n",
              "      <td>80</td>\n",
              "      <td>81</td>\n",
              "      <td>0</td>\n",
              "    </tr>\n",
              "    <tr>\n",
              "      <th>3652</th>\n",
              "      <td>1</td>\n",
              "      <td>68</td>\n",
              "      <td>1</td>\n",
              "      <td>0</td>\n",
              "      <td>0</td>\n",
              "      <td>0</td>\n",
              "      <td>0</td>\n",
              "      <td>1</td>\n",
              "      <td>0</td>\n",
              "      <td>176</td>\n",
              "      <td>168.0</td>\n",
              "      <td>97.0</td>\n",
              "      <td>23.14</td>\n",
              "      <td>60</td>\n",
              "      <td>79</td>\n",
              "      <td>1</td>\n",
              "    </tr>\n",
              "    <tr>\n",
              "      <th>3653</th>\n",
              "      <td>1</td>\n",
              "      <td>50</td>\n",
              "      <td>1</td>\n",
              "      <td>1</td>\n",
              "      <td>1</td>\n",
              "      <td>0</td>\n",
              "      <td>0</td>\n",
              "      <td>1</td>\n",
              "      <td>0</td>\n",
              "      <td>313</td>\n",
              "      <td>179.0</td>\n",
              "      <td>92.0</td>\n",
              "      <td>25.97</td>\n",
              "      <td>66</td>\n",
              "      <td>86</td>\n",
              "      <td>1</td>\n",
              "    </tr>\n",
              "    <tr>\n",
              "      <th>3654</th>\n",
              "      <td>1</td>\n",
              "      <td>51</td>\n",
              "      <td>3</td>\n",
              "      <td>1</td>\n",
              "      <td>43</td>\n",
              "      <td>0</td>\n",
              "      <td>0</td>\n",
              "      <td>0</td>\n",
              "      <td>0</td>\n",
              "      <td>207</td>\n",
              "      <td>126.5</td>\n",
              "      <td>80.0</td>\n",
              "      <td>19.71</td>\n",
              "      <td>65</td>\n",
              "      <td>68</td>\n",
              "      <td>0</td>\n",
              "    </tr>\n",
              "    <tr>\n",
              "      <th>3655</th>\n",
              "      <td>0</td>\n",
              "      <td>52</td>\n",
              "      <td>2</td>\n",
              "      <td>0</td>\n",
              "      <td>0</td>\n",
              "      <td>0</td>\n",
              "      <td>0</td>\n",
              "      <td>0</td>\n",
              "      <td>0</td>\n",
              "      <td>269</td>\n",
              "      <td>133.5</td>\n",
              "      <td>83.0</td>\n",
              "      <td>21.47</td>\n",
              "      <td>80</td>\n",
              "      <td>107</td>\n",
              "      <td>0</td>\n",
              "    </tr>\n",
              "  </tbody>\n",
              "</table>\n",
              "<p>3656 rows × 16 columns</p>\n",
              "</div>\n",
              "      <button class=\"colab-df-convert\" onclick=\"convertToInteractive('df-15292876-824f-4098-8a6f-d634fd64201d')\"\n",
              "              title=\"Convert this dataframe to an interactive table.\"\n",
              "              style=\"display:none;\">\n",
              "        \n",
              "  <svg xmlns=\"http://www.w3.org/2000/svg\" height=\"24px\"viewBox=\"0 0 24 24\"\n",
              "       width=\"24px\">\n",
              "    <path d=\"M0 0h24v24H0V0z\" fill=\"none\"/>\n",
              "    <path d=\"M18.56 5.44l.94 2.06.94-2.06 2.06-.94-2.06-.94-.94-2.06-.94 2.06-2.06.94zm-11 1L8.5 8.5l.94-2.06 2.06-.94-2.06-.94L8.5 2.5l-.94 2.06-2.06.94zm10 10l.94 2.06.94-2.06 2.06-.94-2.06-.94-.94-2.06-.94 2.06-2.06.94z\"/><path d=\"M17.41 7.96l-1.37-1.37c-.4-.4-.92-.59-1.43-.59-.52 0-1.04.2-1.43.59L10.3 9.45l-7.72 7.72c-.78.78-.78 2.05 0 2.83L4 21.41c.39.39.9.59 1.41.59.51 0 1.02-.2 1.41-.59l7.78-7.78 2.81-2.81c.8-.78.8-2.07 0-2.86zM5.41 20L4 18.59l7.72-7.72 1.47 1.35L5.41 20z\"/>\n",
              "  </svg>\n",
              "      </button>\n",
              "      \n",
              "  <style>\n",
              "    .colab-df-container {\n",
              "      display:flex;\n",
              "      flex-wrap:wrap;\n",
              "      gap: 12px;\n",
              "    }\n",
              "\n",
              "    .colab-df-convert {\n",
              "      background-color: #E8F0FE;\n",
              "      border: none;\n",
              "      border-radius: 50%;\n",
              "      cursor: pointer;\n",
              "      display: none;\n",
              "      fill: #1967D2;\n",
              "      height: 32px;\n",
              "      padding: 0 0 0 0;\n",
              "      width: 32px;\n",
              "    }\n",
              "\n",
              "    .colab-df-convert:hover {\n",
              "      background-color: #E2EBFA;\n",
              "      box-shadow: 0px 1px 2px rgba(60, 64, 67, 0.3), 0px 1px 3px 1px rgba(60, 64, 67, 0.15);\n",
              "      fill: #174EA6;\n",
              "    }\n",
              "\n",
              "    [theme=dark] .colab-df-convert {\n",
              "      background-color: #3B4455;\n",
              "      fill: #D2E3FC;\n",
              "    }\n",
              "\n",
              "    [theme=dark] .colab-df-convert:hover {\n",
              "      background-color: #434B5C;\n",
              "      box-shadow: 0px 1px 3px 1px rgba(0, 0, 0, 0.15);\n",
              "      filter: drop-shadow(0px 1px 2px rgba(0, 0, 0, 0.3));\n",
              "      fill: #FFFFFF;\n",
              "    }\n",
              "  </style>\n",
              "\n",
              "      <script>\n",
              "        const buttonEl =\n",
              "          document.querySelector('#df-15292876-824f-4098-8a6f-d634fd64201d button.colab-df-convert');\n",
              "        buttonEl.style.display =\n",
              "          google.colab.kernel.accessAllowed ? 'block' : 'none';\n",
              "\n",
              "        async function convertToInteractive(key) {\n",
              "          const element = document.querySelector('#df-15292876-824f-4098-8a6f-d634fd64201d');\n",
              "          const dataTable =\n",
              "            await google.colab.kernel.invokeFunction('convertToInteractive',\n",
              "                                                     [key], {});\n",
              "          if (!dataTable) return;\n",
              "\n",
              "          const docLinkHtml = 'Like what you see? Visit the ' +\n",
              "            '<a target=\"_blank\" href=https://colab.research.google.com/notebooks/data_table.ipynb>data table notebook</a>'\n",
              "            + ' to learn more about interactive tables.';\n",
              "          element.innerHTML = '';\n",
              "          dataTable['output_type'] = 'display_data';\n",
              "          await google.colab.output.renderOutput(dataTable, element);\n",
              "          const docLink = document.createElement('div');\n",
              "          docLink.innerHTML = docLinkHtml;\n",
              "          element.appendChild(docLink);\n",
              "        }\n",
              "      </script>\n",
              "    </div>\n",
              "  </div>\n",
              "  "
            ]
          },
          "metadata": {},
          "execution_count": 200
        }
      ]
    },
    {
      "cell_type": "markdown",
      "source": [
        "#Variables\n",
        "Demographic \n",
        "\n",
        "• Sex: male or female(Nominal)\n",
        "\n",
        "• Age: Age of the patient;(Continuous - Although the recorded ages have been truncated to whole numbers, the concept of age is continuous)\n",
        "\n",
        "Behavioral\n",
        "\n",
        "• Current Smoker: whether or not the patient is a current smoker (Nominal)\n",
        "\n",
        "• Cigs Per Day: the number of cigarettes that the person smoked on average in one day.(can be considered continuous as one can have any number of cigarettes, even half a cigarette.)\n",
        "\n",
        "Medical( history)\n",
        "\n",
        "• BP Meds: whether or not the patient was on blood pressure medication (Nominal)\n",
        "\n",
        "• Prevalent Stroke: whether or not the patient had previously had a stroke (Nominal)\n",
        "\n",
        "• Prevalent Hyp: whether or not the patient was hypertensive (Nominal)\n",
        "\n",
        "• Diabetes: whether or not the patient had diabetes (Nominal)\n",
        "\n",
        "Medical(current)\n",
        "\n",
        "• Tot Chol: total cholesterol level (Continuous)\n",
        "\n",
        "• Sys BP: systolic blood pressure (Continuous)\n",
        "\n",
        "• Dia BP: diastolic blood pressure (Continuous)\n",
        "\n",
        "• BMI: Body Mass Index (Continuous)\n",
        "\n",
        "• Heart Rate: heart rate (Continuous - In medical research, variables such as \n",
        "heart rate though in fact discrete, yet are considered continuous because of large number of possible values.)\n",
        "\n",
        "• Glucose: glucose level (Continuous)\n",
        "\n",
        "Predict variable (desired target)\n",
        "• 10 year risk of coronary heart disease CHD (binary: “1”, means “Yes”, “0” means “No”)"
      ],
      "metadata": {
        "id": "_BF2nzSxD9fO"
      }
    },
    {
      "cell_type": "code",
      "source": [
        "heart.head()"
      ],
      "metadata": {
        "colab": {
          "base_uri": "https://localhost:8080/",
          "height": 206
        },
        "id": "uvw4HMaKASpM",
        "outputId": "58d1ed85-36de-4291-dbec-53702e768075"
      },
      "execution_count": 201,
      "outputs": [
        {
          "output_type": "execute_result",
          "data": {
            "text/plain": [
              "   male  age  education  current_smoker  cigs_per_day  bp_meds  \\\n",
              "0     1   39          4               0             0        0   \n",
              "1     0   46          2               0             0        0   \n",
              "2     1   48          1               1            20        0   \n",
              "3     0   61          3               1            30        0   \n",
              "4     0   46          3               1            23        0   \n",
              "\n",
              "   prevalent_stroke  prevalent_hyp  diabetes  tot_chol  sys_bp  dia_bp    bmi  \\\n",
              "0                 0              0         0       195   106.0    70.0  26.97   \n",
              "1                 0              0         0       250   121.0    81.0  28.73   \n",
              "2                 0              0         0       245   127.5    80.0  25.34   \n",
              "3                 0              1         0       225   150.0    95.0  28.58   \n",
              "4                 0              0         0       285   130.0    84.0  23.10   \n",
              "\n",
              "   heart_rate  glucose  heart_attack  \n",
              "0          80       77             0  \n",
              "1          95       76             0  \n",
              "2          75       70             0  \n",
              "3          65      103             1  \n",
              "4          85       85             0  "
            ],
            "text/html": [
              "\n",
              "  <div id=\"df-cbe09800-eb49-456b-9334-529ca9c67b0a\">\n",
              "    <div class=\"colab-df-container\">\n",
              "      <div>\n",
              "<style scoped>\n",
              "    .dataframe tbody tr th:only-of-type {\n",
              "        vertical-align: middle;\n",
              "    }\n",
              "\n",
              "    .dataframe tbody tr th {\n",
              "        vertical-align: top;\n",
              "    }\n",
              "\n",
              "    .dataframe thead th {\n",
              "        text-align: right;\n",
              "    }\n",
              "</style>\n",
              "<table border=\"1\" class=\"dataframe\">\n",
              "  <thead>\n",
              "    <tr style=\"text-align: right;\">\n",
              "      <th></th>\n",
              "      <th>male</th>\n",
              "      <th>age</th>\n",
              "      <th>education</th>\n",
              "      <th>current_smoker</th>\n",
              "      <th>cigs_per_day</th>\n",
              "      <th>bp_meds</th>\n",
              "      <th>prevalent_stroke</th>\n",
              "      <th>prevalent_hyp</th>\n",
              "      <th>diabetes</th>\n",
              "      <th>tot_chol</th>\n",
              "      <th>sys_bp</th>\n",
              "      <th>dia_bp</th>\n",
              "      <th>bmi</th>\n",
              "      <th>heart_rate</th>\n",
              "      <th>glucose</th>\n",
              "      <th>heart_attack</th>\n",
              "    </tr>\n",
              "  </thead>\n",
              "  <tbody>\n",
              "    <tr>\n",
              "      <th>0</th>\n",
              "      <td>1</td>\n",
              "      <td>39</td>\n",
              "      <td>4</td>\n",
              "      <td>0</td>\n",
              "      <td>0</td>\n",
              "      <td>0</td>\n",
              "      <td>0</td>\n",
              "      <td>0</td>\n",
              "      <td>0</td>\n",
              "      <td>195</td>\n",
              "      <td>106.0</td>\n",
              "      <td>70.0</td>\n",
              "      <td>26.97</td>\n",
              "      <td>80</td>\n",
              "      <td>77</td>\n",
              "      <td>0</td>\n",
              "    </tr>\n",
              "    <tr>\n",
              "      <th>1</th>\n",
              "      <td>0</td>\n",
              "      <td>46</td>\n",
              "      <td>2</td>\n",
              "      <td>0</td>\n",
              "      <td>0</td>\n",
              "      <td>0</td>\n",
              "      <td>0</td>\n",
              "      <td>0</td>\n",
              "      <td>0</td>\n",
              "      <td>250</td>\n",
              "      <td>121.0</td>\n",
              "      <td>81.0</td>\n",
              "      <td>28.73</td>\n",
              "      <td>95</td>\n",
              "      <td>76</td>\n",
              "      <td>0</td>\n",
              "    </tr>\n",
              "    <tr>\n",
              "      <th>2</th>\n",
              "      <td>1</td>\n",
              "      <td>48</td>\n",
              "      <td>1</td>\n",
              "      <td>1</td>\n",
              "      <td>20</td>\n",
              "      <td>0</td>\n",
              "      <td>0</td>\n",
              "      <td>0</td>\n",
              "      <td>0</td>\n",
              "      <td>245</td>\n",
              "      <td>127.5</td>\n",
              "      <td>80.0</td>\n",
              "      <td>25.34</td>\n",
              "      <td>75</td>\n",
              "      <td>70</td>\n",
              "      <td>0</td>\n",
              "    </tr>\n",
              "    <tr>\n",
              "      <th>3</th>\n",
              "      <td>0</td>\n",
              "      <td>61</td>\n",
              "      <td>3</td>\n",
              "      <td>1</td>\n",
              "      <td>30</td>\n",
              "      <td>0</td>\n",
              "      <td>0</td>\n",
              "      <td>1</td>\n",
              "      <td>0</td>\n",
              "      <td>225</td>\n",
              "      <td>150.0</td>\n",
              "      <td>95.0</td>\n",
              "      <td>28.58</td>\n",
              "      <td>65</td>\n",
              "      <td>103</td>\n",
              "      <td>1</td>\n",
              "    </tr>\n",
              "    <tr>\n",
              "      <th>4</th>\n",
              "      <td>0</td>\n",
              "      <td>46</td>\n",
              "      <td>3</td>\n",
              "      <td>1</td>\n",
              "      <td>23</td>\n",
              "      <td>0</td>\n",
              "      <td>0</td>\n",
              "      <td>0</td>\n",
              "      <td>0</td>\n",
              "      <td>285</td>\n",
              "      <td>130.0</td>\n",
              "      <td>84.0</td>\n",
              "      <td>23.10</td>\n",
              "      <td>85</td>\n",
              "      <td>85</td>\n",
              "      <td>0</td>\n",
              "    </tr>\n",
              "  </tbody>\n",
              "</table>\n",
              "</div>\n",
              "      <button class=\"colab-df-convert\" onclick=\"convertToInteractive('df-cbe09800-eb49-456b-9334-529ca9c67b0a')\"\n",
              "              title=\"Convert this dataframe to an interactive table.\"\n",
              "              style=\"display:none;\">\n",
              "        \n",
              "  <svg xmlns=\"http://www.w3.org/2000/svg\" height=\"24px\"viewBox=\"0 0 24 24\"\n",
              "       width=\"24px\">\n",
              "    <path d=\"M0 0h24v24H0V0z\" fill=\"none\"/>\n",
              "    <path d=\"M18.56 5.44l.94 2.06.94-2.06 2.06-.94-2.06-.94-.94-2.06-.94 2.06-2.06.94zm-11 1L8.5 8.5l.94-2.06 2.06-.94-2.06-.94L8.5 2.5l-.94 2.06-2.06.94zm10 10l.94 2.06.94-2.06 2.06-.94-2.06-.94-.94-2.06-.94 2.06-2.06.94z\"/><path d=\"M17.41 7.96l-1.37-1.37c-.4-.4-.92-.59-1.43-.59-.52 0-1.04.2-1.43.59L10.3 9.45l-7.72 7.72c-.78.78-.78 2.05 0 2.83L4 21.41c.39.39.9.59 1.41.59.51 0 1.02-.2 1.41-.59l7.78-7.78 2.81-2.81c.8-.78.8-2.07 0-2.86zM5.41 20L4 18.59l7.72-7.72 1.47 1.35L5.41 20z\"/>\n",
              "  </svg>\n",
              "      </button>\n",
              "      \n",
              "  <style>\n",
              "    .colab-df-container {\n",
              "      display:flex;\n",
              "      flex-wrap:wrap;\n",
              "      gap: 12px;\n",
              "    }\n",
              "\n",
              "    .colab-df-convert {\n",
              "      background-color: #E8F0FE;\n",
              "      border: none;\n",
              "      border-radius: 50%;\n",
              "      cursor: pointer;\n",
              "      display: none;\n",
              "      fill: #1967D2;\n",
              "      height: 32px;\n",
              "      padding: 0 0 0 0;\n",
              "      width: 32px;\n",
              "    }\n",
              "\n",
              "    .colab-df-convert:hover {\n",
              "      background-color: #E2EBFA;\n",
              "      box-shadow: 0px 1px 2px rgba(60, 64, 67, 0.3), 0px 1px 3px 1px rgba(60, 64, 67, 0.15);\n",
              "      fill: #174EA6;\n",
              "    }\n",
              "\n",
              "    [theme=dark] .colab-df-convert {\n",
              "      background-color: #3B4455;\n",
              "      fill: #D2E3FC;\n",
              "    }\n",
              "\n",
              "    [theme=dark] .colab-df-convert:hover {\n",
              "      background-color: #434B5C;\n",
              "      box-shadow: 0px 1px 3px 1px rgba(0, 0, 0, 0.15);\n",
              "      filter: drop-shadow(0px 1px 2px rgba(0, 0, 0, 0.3));\n",
              "      fill: #FFFFFF;\n",
              "    }\n",
              "  </style>\n",
              "\n",
              "      <script>\n",
              "        const buttonEl =\n",
              "          document.querySelector('#df-cbe09800-eb49-456b-9334-529ca9c67b0a button.colab-df-convert');\n",
              "        buttonEl.style.display =\n",
              "          google.colab.kernel.accessAllowed ? 'block' : 'none';\n",
              "\n",
              "        async function convertToInteractive(key) {\n",
              "          const element = document.querySelector('#df-cbe09800-eb49-456b-9334-529ca9c67b0a');\n",
              "          const dataTable =\n",
              "            await google.colab.kernel.invokeFunction('convertToInteractive',\n",
              "                                                     [key], {});\n",
              "          if (!dataTable) return;\n",
              "\n",
              "          const docLinkHtml = 'Like what you see? Visit the ' +\n",
              "            '<a target=\"_blank\" href=https://colab.research.google.com/notebooks/data_table.ipynb>data table notebook</a>'\n",
              "            + ' to learn more about interactive tables.';\n",
              "          element.innerHTML = '';\n",
              "          dataTable['output_type'] = 'display_data';\n",
              "          await google.colab.output.renderOutput(dataTable, element);\n",
              "          const docLink = document.createElement('div');\n",
              "          docLink.innerHTML = docLinkHtml;\n",
              "          element.appendChild(docLink);\n",
              "        }\n",
              "      </script>\n",
              "    </div>\n",
              "  </div>\n",
              "  "
            ]
          },
          "metadata": {},
          "execution_count": 201
        }
      ]
    },
    {
      "cell_type": "code",
      "source": [
        "heart.info()"
      ],
      "metadata": {
        "colab": {
          "base_uri": "https://localhost:8080/"
        },
        "id": "9xd2hwNmBIJO",
        "outputId": "3f071f8e-9429-4d6c-cff7-c38e33e751d0"
      },
      "execution_count": 202,
      "outputs": [
        {
          "output_type": "stream",
          "name": "stdout",
          "text": [
            "<class 'pandas.core.frame.DataFrame'>\n",
            "RangeIndex: 3656 entries, 0 to 3655\n",
            "Data columns (total 16 columns):\n",
            " #   Column            Non-Null Count  Dtype  \n",
            "---  ------            --------------  -----  \n",
            " 0   male              3656 non-null   int64  \n",
            " 1   age               3656 non-null   int64  \n",
            " 2   education         3656 non-null   int64  \n",
            " 3   current_smoker    3656 non-null   int64  \n",
            " 4   cigs_per_day      3656 non-null   int64  \n",
            " 5   bp_meds           3656 non-null   int64  \n",
            " 6   prevalent_stroke  3656 non-null   int64  \n",
            " 7   prevalent_hyp     3656 non-null   int64  \n",
            " 8   diabetes          3656 non-null   int64  \n",
            " 9   tot_chol          3656 non-null   int64  \n",
            " 10  sys_bp            3656 non-null   float64\n",
            " 11  dia_bp            3656 non-null   float64\n",
            " 12  bmi               3656 non-null   float64\n",
            " 13  heart_rate        3656 non-null   int64  \n",
            " 14  glucose           3656 non-null   int64  \n",
            " 15  heart_attack      3656 non-null   int64  \n",
            "dtypes: float64(3), int64(13)\n",
            "memory usage: 457.1 KB\n"
          ]
        }
      ]
    },
    {
      "cell_type": "code",
      "source": [
        "heart.describe()"
      ],
      "metadata": {
        "colab": {
          "base_uri": "https://localhost:8080/",
          "height": 364
        },
        "id": "MwQp6r2gD-wA",
        "outputId": "88f06a5a-9414-4cfa-a8bd-ad7e49f628c5"
      },
      "execution_count": 203,
      "outputs": [
        {
          "output_type": "execute_result",
          "data": {
            "text/plain": [
              "              male          age    education  current_smoker  cigs_per_day  \\\n",
              "count  3656.000000  3656.000000  3656.000000     3656.000000   3656.000000   \n",
              "mean      0.443654    49.557440     1.979759        0.489059      9.022155   \n",
              "std       0.496883     8.561133     1.022657        0.499949     11.918869   \n",
              "min       0.000000    32.000000     1.000000        0.000000      0.000000   \n",
              "25%       0.000000    42.000000     1.000000        0.000000      0.000000   \n",
              "50%       0.000000    49.000000     2.000000        0.000000      0.000000   \n",
              "75%       1.000000    56.000000     3.000000        1.000000     20.000000   \n",
              "max       1.000000    70.000000     4.000000        1.000000     70.000000   \n",
              "\n",
              "           bp_meds  prevalent_stroke  prevalent_hyp     diabetes     tot_chol  \\\n",
              "count  3656.000000       3656.000000    3656.000000  3656.000000  3656.000000   \n",
              "mean      0.030361          0.005744       0.311543     0.027079   236.873085   \n",
              "std       0.171602          0.075581       0.463187     0.162335    44.096223   \n",
              "min       0.000000          0.000000       0.000000     0.000000   113.000000   \n",
              "25%       0.000000          0.000000       0.000000     0.000000   206.000000   \n",
              "50%       0.000000          0.000000       0.000000     0.000000   234.000000   \n",
              "75%       0.000000          0.000000       1.000000     0.000000   263.250000   \n",
              "max       1.000000          1.000000       1.000000     1.000000   600.000000   \n",
              "\n",
              "            sys_bp       dia_bp          bmi   heart_rate      glucose  \\\n",
              "count  3656.000000  3656.000000  3656.000000  3656.000000  3656.000000   \n",
              "mean    132.368025    82.912062    25.784185    75.730580    81.856127   \n",
              "std      22.092444    11.974825     4.065913    11.982952    23.910128   \n",
              "min      83.500000    48.000000    15.540000    44.000000    40.000000   \n",
              "25%     117.000000    75.000000    23.080000    68.000000    71.000000   \n",
              "50%     128.000000    82.000000    25.380000    75.000000    78.000000   \n",
              "75%     144.000000    90.000000    28.040000    82.000000    87.000000   \n",
              "max     295.000000   142.500000    56.800000   143.000000   394.000000   \n",
              "\n",
              "       heart_attack  \n",
              "count   3656.000000  \n",
              "mean       0.152352  \n",
              "std        0.359411  \n",
              "min        0.000000  \n",
              "25%        0.000000  \n",
              "50%        0.000000  \n",
              "75%        0.000000  \n",
              "max        1.000000  "
            ],
            "text/html": [
              "\n",
              "  <div id=\"df-d39dc9d4-2942-456c-bb00-6bf101609acd\">\n",
              "    <div class=\"colab-df-container\">\n",
              "      <div>\n",
              "<style scoped>\n",
              "    .dataframe tbody tr th:only-of-type {\n",
              "        vertical-align: middle;\n",
              "    }\n",
              "\n",
              "    .dataframe tbody tr th {\n",
              "        vertical-align: top;\n",
              "    }\n",
              "\n",
              "    .dataframe thead th {\n",
              "        text-align: right;\n",
              "    }\n",
              "</style>\n",
              "<table border=\"1\" class=\"dataframe\">\n",
              "  <thead>\n",
              "    <tr style=\"text-align: right;\">\n",
              "      <th></th>\n",
              "      <th>male</th>\n",
              "      <th>age</th>\n",
              "      <th>education</th>\n",
              "      <th>current_smoker</th>\n",
              "      <th>cigs_per_day</th>\n",
              "      <th>bp_meds</th>\n",
              "      <th>prevalent_stroke</th>\n",
              "      <th>prevalent_hyp</th>\n",
              "      <th>diabetes</th>\n",
              "      <th>tot_chol</th>\n",
              "      <th>sys_bp</th>\n",
              "      <th>dia_bp</th>\n",
              "      <th>bmi</th>\n",
              "      <th>heart_rate</th>\n",
              "      <th>glucose</th>\n",
              "      <th>heart_attack</th>\n",
              "    </tr>\n",
              "  </thead>\n",
              "  <tbody>\n",
              "    <tr>\n",
              "      <th>count</th>\n",
              "      <td>3656.000000</td>\n",
              "      <td>3656.000000</td>\n",
              "      <td>3656.000000</td>\n",
              "      <td>3656.000000</td>\n",
              "      <td>3656.000000</td>\n",
              "      <td>3656.000000</td>\n",
              "      <td>3656.000000</td>\n",
              "      <td>3656.000000</td>\n",
              "      <td>3656.000000</td>\n",
              "      <td>3656.000000</td>\n",
              "      <td>3656.000000</td>\n",
              "      <td>3656.000000</td>\n",
              "      <td>3656.000000</td>\n",
              "      <td>3656.000000</td>\n",
              "      <td>3656.000000</td>\n",
              "      <td>3656.000000</td>\n",
              "    </tr>\n",
              "    <tr>\n",
              "      <th>mean</th>\n",
              "      <td>0.443654</td>\n",
              "      <td>49.557440</td>\n",
              "      <td>1.979759</td>\n",
              "      <td>0.489059</td>\n",
              "      <td>9.022155</td>\n",
              "      <td>0.030361</td>\n",
              "      <td>0.005744</td>\n",
              "      <td>0.311543</td>\n",
              "      <td>0.027079</td>\n",
              "      <td>236.873085</td>\n",
              "      <td>132.368025</td>\n",
              "      <td>82.912062</td>\n",
              "      <td>25.784185</td>\n",
              "      <td>75.730580</td>\n",
              "      <td>81.856127</td>\n",
              "      <td>0.152352</td>\n",
              "    </tr>\n",
              "    <tr>\n",
              "      <th>std</th>\n",
              "      <td>0.496883</td>\n",
              "      <td>8.561133</td>\n",
              "      <td>1.022657</td>\n",
              "      <td>0.499949</td>\n",
              "      <td>11.918869</td>\n",
              "      <td>0.171602</td>\n",
              "      <td>0.075581</td>\n",
              "      <td>0.463187</td>\n",
              "      <td>0.162335</td>\n",
              "      <td>44.096223</td>\n",
              "      <td>22.092444</td>\n",
              "      <td>11.974825</td>\n",
              "      <td>4.065913</td>\n",
              "      <td>11.982952</td>\n",
              "      <td>23.910128</td>\n",
              "      <td>0.359411</td>\n",
              "    </tr>\n",
              "    <tr>\n",
              "      <th>min</th>\n",
              "      <td>0.000000</td>\n",
              "      <td>32.000000</td>\n",
              "      <td>1.000000</td>\n",
              "      <td>0.000000</td>\n",
              "      <td>0.000000</td>\n",
              "      <td>0.000000</td>\n",
              "      <td>0.000000</td>\n",
              "      <td>0.000000</td>\n",
              "      <td>0.000000</td>\n",
              "      <td>113.000000</td>\n",
              "      <td>83.500000</td>\n",
              "      <td>48.000000</td>\n",
              "      <td>15.540000</td>\n",
              "      <td>44.000000</td>\n",
              "      <td>40.000000</td>\n",
              "      <td>0.000000</td>\n",
              "    </tr>\n",
              "    <tr>\n",
              "      <th>25%</th>\n",
              "      <td>0.000000</td>\n",
              "      <td>42.000000</td>\n",
              "      <td>1.000000</td>\n",
              "      <td>0.000000</td>\n",
              "      <td>0.000000</td>\n",
              "      <td>0.000000</td>\n",
              "      <td>0.000000</td>\n",
              "      <td>0.000000</td>\n",
              "      <td>0.000000</td>\n",
              "      <td>206.000000</td>\n",
              "      <td>117.000000</td>\n",
              "      <td>75.000000</td>\n",
              "      <td>23.080000</td>\n",
              "      <td>68.000000</td>\n",
              "      <td>71.000000</td>\n",
              "      <td>0.000000</td>\n",
              "    </tr>\n",
              "    <tr>\n",
              "      <th>50%</th>\n",
              "      <td>0.000000</td>\n",
              "      <td>49.000000</td>\n",
              "      <td>2.000000</td>\n",
              "      <td>0.000000</td>\n",
              "      <td>0.000000</td>\n",
              "      <td>0.000000</td>\n",
              "      <td>0.000000</td>\n",
              "      <td>0.000000</td>\n",
              "      <td>0.000000</td>\n",
              "      <td>234.000000</td>\n",
              "      <td>128.000000</td>\n",
              "      <td>82.000000</td>\n",
              "      <td>25.380000</td>\n",
              "      <td>75.000000</td>\n",
              "      <td>78.000000</td>\n",
              "      <td>0.000000</td>\n",
              "    </tr>\n",
              "    <tr>\n",
              "      <th>75%</th>\n",
              "      <td>1.000000</td>\n",
              "      <td>56.000000</td>\n",
              "      <td>3.000000</td>\n",
              "      <td>1.000000</td>\n",
              "      <td>20.000000</td>\n",
              "      <td>0.000000</td>\n",
              "      <td>0.000000</td>\n",
              "      <td>1.000000</td>\n",
              "      <td>0.000000</td>\n",
              "      <td>263.250000</td>\n",
              "      <td>144.000000</td>\n",
              "      <td>90.000000</td>\n",
              "      <td>28.040000</td>\n",
              "      <td>82.000000</td>\n",
              "      <td>87.000000</td>\n",
              "      <td>0.000000</td>\n",
              "    </tr>\n",
              "    <tr>\n",
              "      <th>max</th>\n",
              "      <td>1.000000</td>\n",
              "      <td>70.000000</td>\n",
              "      <td>4.000000</td>\n",
              "      <td>1.000000</td>\n",
              "      <td>70.000000</td>\n",
              "      <td>1.000000</td>\n",
              "      <td>1.000000</td>\n",
              "      <td>1.000000</td>\n",
              "      <td>1.000000</td>\n",
              "      <td>600.000000</td>\n",
              "      <td>295.000000</td>\n",
              "      <td>142.500000</td>\n",
              "      <td>56.800000</td>\n",
              "      <td>143.000000</td>\n",
              "      <td>394.000000</td>\n",
              "      <td>1.000000</td>\n",
              "    </tr>\n",
              "  </tbody>\n",
              "</table>\n",
              "</div>\n",
              "      <button class=\"colab-df-convert\" onclick=\"convertToInteractive('df-d39dc9d4-2942-456c-bb00-6bf101609acd')\"\n",
              "              title=\"Convert this dataframe to an interactive table.\"\n",
              "              style=\"display:none;\">\n",
              "        \n",
              "  <svg xmlns=\"http://www.w3.org/2000/svg\" height=\"24px\"viewBox=\"0 0 24 24\"\n",
              "       width=\"24px\">\n",
              "    <path d=\"M0 0h24v24H0V0z\" fill=\"none\"/>\n",
              "    <path d=\"M18.56 5.44l.94 2.06.94-2.06 2.06-.94-2.06-.94-.94-2.06-.94 2.06-2.06.94zm-11 1L8.5 8.5l.94-2.06 2.06-.94-2.06-.94L8.5 2.5l-.94 2.06-2.06.94zm10 10l.94 2.06.94-2.06 2.06-.94-2.06-.94-.94-2.06-.94 2.06-2.06.94z\"/><path d=\"M17.41 7.96l-1.37-1.37c-.4-.4-.92-.59-1.43-.59-.52 0-1.04.2-1.43.59L10.3 9.45l-7.72 7.72c-.78.78-.78 2.05 0 2.83L4 21.41c.39.39.9.59 1.41.59.51 0 1.02-.2 1.41-.59l7.78-7.78 2.81-2.81c.8-.78.8-2.07 0-2.86zM5.41 20L4 18.59l7.72-7.72 1.47 1.35L5.41 20z\"/>\n",
              "  </svg>\n",
              "      </button>\n",
              "      \n",
              "  <style>\n",
              "    .colab-df-container {\n",
              "      display:flex;\n",
              "      flex-wrap:wrap;\n",
              "      gap: 12px;\n",
              "    }\n",
              "\n",
              "    .colab-df-convert {\n",
              "      background-color: #E8F0FE;\n",
              "      border: none;\n",
              "      border-radius: 50%;\n",
              "      cursor: pointer;\n",
              "      display: none;\n",
              "      fill: #1967D2;\n",
              "      height: 32px;\n",
              "      padding: 0 0 0 0;\n",
              "      width: 32px;\n",
              "    }\n",
              "\n",
              "    .colab-df-convert:hover {\n",
              "      background-color: #E2EBFA;\n",
              "      box-shadow: 0px 1px 2px rgba(60, 64, 67, 0.3), 0px 1px 3px 1px rgba(60, 64, 67, 0.15);\n",
              "      fill: #174EA6;\n",
              "    }\n",
              "\n",
              "    [theme=dark] .colab-df-convert {\n",
              "      background-color: #3B4455;\n",
              "      fill: #D2E3FC;\n",
              "    }\n",
              "\n",
              "    [theme=dark] .colab-df-convert:hover {\n",
              "      background-color: #434B5C;\n",
              "      box-shadow: 0px 1px 3px 1px rgba(0, 0, 0, 0.15);\n",
              "      filter: drop-shadow(0px 1px 2px rgba(0, 0, 0, 0.3));\n",
              "      fill: #FFFFFF;\n",
              "    }\n",
              "  </style>\n",
              "\n",
              "      <script>\n",
              "        const buttonEl =\n",
              "          document.querySelector('#df-d39dc9d4-2942-456c-bb00-6bf101609acd button.colab-df-convert');\n",
              "        buttonEl.style.display =\n",
              "          google.colab.kernel.accessAllowed ? 'block' : 'none';\n",
              "\n",
              "        async function convertToInteractive(key) {\n",
              "          const element = document.querySelector('#df-d39dc9d4-2942-456c-bb00-6bf101609acd');\n",
              "          const dataTable =\n",
              "            await google.colab.kernel.invokeFunction('convertToInteractive',\n",
              "                                                     [key], {});\n",
              "          if (!dataTable) return;\n",
              "\n",
              "          const docLinkHtml = 'Like what you see? Visit the ' +\n",
              "            '<a target=\"_blank\" href=https://colab.research.google.com/notebooks/data_table.ipynb>data table notebook</a>'\n",
              "            + ' to learn more about interactive tables.';\n",
              "          element.innerHTML = '';\n",
              "          dataTable['output_type'] = 'display_data';\n",
              "          await google.colab.output.renderOutput(dataTable, element);\n",
              "          const docLink = document.createElement('div');\n",
              "          docLink.innerHTML = docLinkHtml;\n",
              "          element.appendChild(docLink);\n",
              "        }\n",
              "      </script>\n",
              "    </div>\n",
              "  </div>\n",
              "  "
            ]
          },
          "metadata": {},
          "execution_count": 203
        }
      ]
    },
    {
      "cell_type": "code",
      "source": [
        "heart.columns"
      ],
      "metadata": {
        "colab": {
          "base_uri": "https://localhost:8080/"
        },
        "id": "Ic_YdaWTBIQb",
        "outputId": "d564d3aa-421a-460a-e966-86f6c1524f11"
      },
      "execution_count": 204,
      "outputs": [
        {
          "output_type": "execute_result",
          "data": {
            "text/plain": [
              "Index(['male', 'age', 'education', 'current_smoker', 'cigs_per_day', 'bp_meds',\n",
              "       'prevalent_stroke', 'prevalent_hyp', 'diabetes', 'tot_chol', 'sys_bp',\n",
              "       'dia_bp', 'bmi', 'heart_rate', 'glucose', 'heart_attack'],\n",
              "      dtype='object')"
            ]
          },
          "metadata": {},
          "execution_count": 204
        }
      ]
    },
    {
      "cell_type": "code",
      "source": [
        "heart.isnull().sum()"
      ],
      "metadata": {
        "colab": {
          "base_uri": "https://localhost:8080/"
        },
        "id": "9EisSYgWD-qs",
        "outputId": "1ac1ed1d-e53a-4bb6-934f-b36c48af5a50"
      },
      "execution_count": 205,
      "outputs": [
        {
          "output_type": "execute_result",
          "data": {
            "text/plain": [
              "male                0\n",
              "age                 0\n",
              "education           0\n",
              "current_smoker      0\n",
              "cigs_per_day        0\n",
              "bp_meds             0\n",
              "prevalent_stroke    0\n",
              "prevalent_hyp       0\n",
              "diabetes            0\n",
              "tot_chol            0\n",
              "sys_bp              0\n",
              "dia_bp              0\n",
              "bmi                 0\n",
              "heart_rate          0\n",
              "glucose             0\n",
              "heart_attack        0\n",
              "dtype: int64"
            ]
          },
          "metadata": {},
          "execution_count": 205
        }
      ]
    },
    {
      "cell_type": "code",
      "source": [
        "heart.shape"
      ],
      "metadata": {
        "colab": {
          "base_uri": "https://localhost:8080/"
        },
        "id": "4hQMoxTmD-oS",
        "outputId": "2c8bbb7b-566e-43da-988d-cd4855633763"
      },
      "execution_count": 206,
      "outputs": [
        {
          "output_type": "execute_result",
          "data": {
            "text/plain": [
              "(3656, 16)"
            ]
          },
          "metadata": {},
          "execution_count": 206
        }
      ]
    },
    {
      "cell_type": "markdown",
      "source": [
        "#Data wrangling"
      ],
      "metadata": {
        "id": "4RZFYKoEFWbu"
      }
    },
    {
      "cell_type": "code",
      "source": [
        "heart=heart.drop(columns=['education'])"
      ],
      "metadata": {
        "id": "ZJdflO-tGJjm"
      },
      "execution_count": 207,
      "outputs": []
    },
    {
      "cell_type": "markdown",
      "source": [
        "# **Task 5: Data Visualization**\n"
      ],
      "metadata": {
        "id": "zjL3u3pEBf5W"
      }
    },
    {
      "cell_type": "code",
      "source": [
        "#fig 1 by Hazel \n",
        "sns.distplot(heart['glucose'])"
      ],
      "metadata": {
        "colab": {
          "base_uri": "https://localhost:8080/",
          "height": 351
        },
        "id": "KUUjlz6bBIGj",
        "outputId": "1fe108cc-e386-446a-995d-c809fd1cba4d"
      },
      "execution_count": 208,
      "outputs": [
        {
          "output_type": "stream",
          "name": "stderr",
          "text": [
            "/usr/local/lib/python3.7/dist-packages/seaborn/distributions.py:2619: FutureWarning: `distplot` is a deprecated function and will be removed in a future version. Please adapt your code to use either `displot` (a figure-level function with similar flexibility) or `histplot` (an axes-level function for histograms).\n",
            "  warnings.warn(msg, FutureWarning)\n"
          ]
        },
        {
          "output_type": "execute_result",
          "data": {
            "text/plain": [
              "<matplotlib.axes._subplots.AxesSubplot at 0x7f94ae106250>"
            ]
          },
          "metadata": {},
          "execution_count": 208
        },
        {
          "output_type": "display_data",
          "data": {
            "text/plain": [
              "<Figure size 432x288 with 1 Axes>"
            ],
            "image/png": "[encoded data removed]"
          },
          "metadata": {
            "needs_background": "light"
          }
        }
      ]
    },
    {
      "cell_type": "markdown",
      "source": [
        "#####In this data visualization we are looking at the glucose of people, we can see thats between 50 to 100 the hightest.Each of these data visualization is what we are focusing on to see how smoking cigarrettes affects people healht and how prove they are likely to have a heart attack.We are focusing mostly on their health and important things we want to focus on such as: glucose, age, heart rate, cigs per day, male, etc."
      ],
      "metadata": {
        "id": "alD7XP8mjWO7"
      }
    },
    {
      "cell_type": "code",
      "source": [
        "#fig 2 by Hazel\n",
        "sns.distplot(heart['age'],kde=False,bins=30)"
      ],
      "metadata": {
        "colab": {
          "base_uri": "https://localhost:8080/",
          "height": 351
        },
        "id": "7wQ8hz6rBIEN",
        "outputId": "962b2122-8074-42bf-d8f1-3e60496b4d35"
      },
      "execution_count": 209,
      "outputs": [
        {
          "output_type": "stream",
          "name": "stderr",
          "text": [
            "/usr/local/lib/python3.7/dist-packages/seaborn/distributions.py:2619: FutureWarning: `distplot` is a deprecated function and will be removed in a future version. Please adapt your code to use either `displot` (a figure-level function with similar flexibility) or `histplot` (an axes-level function for histograms).\n",
            "  warnings.warn(msg, FutureWarning)\n"
          ]
        },
        {
          "output_type": "execute_result",
          "data": {
            "text/plain": [
              "<matplotlib.axes._subplots.AxesSubplot at 0x7f94ae0a3c10>"
            ]
          },
          "metadata": {},
          "execution_count": 209
        },
        {
          "output_type": "display_data",
          "data": {
            "text/plain": [
              "<Figure size 432x288 with 1 Axes>"
            ],
            "image/png": "[encoded data removed]"
          },
          "metadata": {
            "needs_background": "light"
          }
        }
      ]
    },
    {
      "cell_type": "markdown",
      "source": [
        "####In this graph we can see that we have ages from 35 to 70. However, it increases and decreases between ages."
      ],
      "metadata": {
        "id": "PW_4U_aqj61R"
      }
    },
    {
      "cell_type": "code",
      "source": [
        "#(Hazel):In this graph we can see that we have an estimated of how many cigarrettes people smoke per day. Highest that we found is 43 cigarrettes per day.\n",
        "#It goes from three, five, nine, ten, fifteen, twenty, thirty, forty and forty-three. \n",
        "#This is clearly affecting people day by day because of how much they smoke per day.\n",
        "plt.figure(figsize=(12,8))\n",
        "sns.countplot(data = heart, x = 'cigs_per_day')\n",
        "plt.show()"
      ],
      "metadata": {
        "colab": {
          "base_uri": "https://localhost:8080/",
          "height": 498
        },
        "id": "I5wrFftbBkeb",
        "outputId": "80089001-8d00-4d92-c5df-0b1f4cceb1b8"
      },
      "execution_count": 210,
      "outputs": [
        {
          "output_type": "display_data",
          "data": {
            "text/plain": [
              "<Figure size 864x576 with 1 Axes>"
            ],
            "image/png": "[encoded data removed]"
          },
          "metadata": {
            "needs_background": "light"
          }
        }
      ]
    },
    {
      "cell_type": "code",
      "source": [
        "#(Hazel):Here, I created a heatwave graph. This is really helpful and organized because it provides all the information from our dataset. \n",
        "plt.figure(figsize=(25,15))\n",
        "sns.heatmap(heart.corr(), annot=True, square=True, cmap='coolwarm')\n",
        "plt.show()"
      ],
      "metadata": {
        "colab": {
          "base_uri": "https://localhost:8080/",
          "height": 940
        },
        "id": "OJ2xXLHcJJJu",
        "outputId": "ac282357-fcce-4a3a-d1fc-2dbd293d7a9a"
      },
      "execution_count": 212,
      "outputs": [
        {
          "output_type": "display_data",
          "data": {
            "text/plain": [
              "<Figure size 1800x1080 with 2 Axes>"
            ],
            "image/png": "[encoded data removed]"
          },
          "metadata": {
            "needs_background": "light"
          }
        }
      ]
    },
    {
      "cell_type": "code",
      "source": [
        "#(Hazel):In this graph we can see that males heart rate is between 60 and it increases to highest between 70s. However, it keeps on increasing and decreasing.\n",
        "plt.figure(figsize=(20,10))\n",
        "heart = sns.countplot(x=\"heart_rate\", data=heart, palette=\"Set3\")\n",
        "plt.show()"
      ],
      "metadata": {
        "colab": {
          "base_uri": "https://localhost:8080/",
          "height": 606
        },
        "id": "BDVBYrPyAGVM",
        "outputId": "3d78f587-bf1a-4951-f0ed-c8dd5b82830c"
      },
      "execution_count": 340,
      "outputs": [
        {
          "output_type": "display_data",
          "data": {
            "text/plain": [
              "<Figure size 1440x720 with 1 Axes>"
            ],
            "image/png": "[encoded data removed]"
          },
          "metadata": {
            "needs_background": "light"
          }
        }
      ]
    },
    {
      "cell_type": "code",
      "source": [
        "#Tajrin\n",
        "sns.countplot(heart['male'], hue = heart['current_smoker']).set_title(\"male VS current_smoker\")"
      ],
      "metadata": {
        "id": "uRo-dpBXJJHS",
        "colab": {
          "base_uri": "https://localhost:8080/",
          "height": 367
        },
        "outputId": "cedeaa4f-b349-4c6f-913a-f435e548e131"
      },
      "execution_count": 224,
      "outputs": [
        {
          "output_type": "stream",
          "name": "stderr",
          "text": [
            "/usr/local/lib/python3.7/dist-packages/seaborn/_decorators.py:43: FutureWarning: Pass the following variable as a keyword arg: x. From version 0.12, the only valid positional argument will be `data`, and passing other arguments without an explicit keyword will result in an error or misinterpretation.\n",
            "  FutureWarning\n"
          ]
        },
        {
          "output_type": "execute_result",
          "data": {
            "text/plain": [
              "Text(0.5, 1.0, 'male VS current_smoker')"
            ]
          },
          "metadata": {},
          "execution_count": 224
        },
        {
          "output_type": "display_data",
          "data": {
            "text/plain": [
              "<Figure size 432x288 with 1 Axes>"
            ],
            "image/png": "[encoded data removed]"
          },
          "metadata": {
            "needs_background": "light"
          }
        }
      ]
    },
    {
      "cell_type": "code",
      "source": [
        "#Tajrin\n",
        "heart.hist(figsize=(20,10));"
      ],
      "metadata": {
        "colab": {
          "base_uri": "https://localhost:8080/",
          "height": 607
        },
        "id": "HJWh4dr7fdBn",
        "outputId": "94b0ad66-1a39-4066-b20e-b251db31073c"
      },
      "execution_count": 339,
      "outputs": [
        {
          "output_type": "display_data",
          "data": {
            "text/plain": [
              "<Figure size 1440x720 with 16 Axes>"
            ],
            "image/png": "[encoded data removed]"
          },
          "metadata": {
            "needs_background": "light"
          }
        }
      ]
    },
    {
      "cell_type": "markdown",
      "source": [
        "# **Task 6: Train Test Split**\n",
        "(First test, Hazel)"
      ],
      "metadata": {
        "id": "Ccn8WIU5BoVp"
      }
    },
    {
      "cell_type": "code",
      "source": [
        "from sklearn.model_selection import train_test_split"
      ],
      "metadata": {
        "id": "88jfbsAwBkXj"
      },
      "execution_count": 220,
      "outputs": []
    },
    {
      "cell_type": "code",
      "source": [
        "X=heart.drop('heart_attack', axis=1)\n",
        "\n",
        "y=heart['heart_attack']"
      ],
      "metadata": {
        "id": "SkCcwqVcT1Ln"
      },
      "execution_count": 226,
      "outputs": []
    },
    {
      "cell_type": "code",
      "source": [
        "#Test 1 (Hazel)\n",
        "#The dataset will be splitted into 70:30 ratio (70% training and 30% testing).\n",
        "X_train,X_test,y_train,y_test = train_test_split(X,y,test_size = 0.30)"
      ],
      "metadata": {
        "id": "ysbAbLxQBkSn"
      },
      "execution_count": 227,
      "outputs": []
    },
    {
      "cell_type": "markdown",
      "source": [
        "#Task 7: **Feature Scaling**"
      ],
      "metadata": {
        "id": "vIWy7yPdWXcI"
      }
    },
    {
      "cell_type": "code",
      "source": [
        "##scale\n",
        "from sklearn.preprocessing import StandardScaler\n",
        "scaler=StandardScaler()\n",
        "scaler.fit(X_train)"
      ],
      "metadata": {
        "id": "bWH-mD_UWWvM",
        "colab": {
          "base_uri": "https://localhost:8080/"
        },
        "outputId": "939ad26a-17a3-4fb5-aab1-bd839f64a2ca"
      },
      "execution_count": 228,
      "outputs": [
        {
          "output_type": "execute_result",
          "data": {
            "text/plain": [
              "StandardScaler()"
            ]
          },
          "metadata": {},
          "execution_count": 228
        }
      ]
    },
    {
      "cell_type": "code",
      "source": [
        "scaled_x_train=scaler.transform(X_train)"
      ],
      "metadata": {
        "id": "8WvexzXBWWrt"
      },
      "execution_count": 229,
      "outputs": []
    },
    {
      "cell_type": "code",
      "source": [
        "scaled_x_test=scaler.transform(X_test)"
      ],
      "metadata": {
        "id": "TJuX-dvQWWfI"
      },
      "execution_count": 230,
      "outputs": []
    },
    {
      "cell_type": "code",
      "source": [
        "### prediction\n",
        "from sklearn.metrics import classification_report,confusion_matrix"
      ],
      "metadata": {
        "id": "DH9pQ0bfWWb2"
      },
      "execution_count": 231,
      "outputs": []
    },
    {
      "cell_type": "code",
      "source": [
        "#accuracy\n",
        "from sklearn.metrics import accuracy_score"
      ],
      "metadata": {
        "id": "3kwanXBCWWZd"
      },
      "execution_count": 232,
      "outputs": []
    },
    {
      "cell_type": "markdown",
      "source": [
        "# **Task 8: ML Models**"
      ],
      "metadata": {
        "id": "i-SXKFp-WoRt"
      }
    },
    {
      "cell_type": "markdown",
      "source": [
        "#KNN Model\n",
        "The k-nearest neighbors (KNN) algorithm is a simple, supervised machine learning algorithm that can be used to solve both classification and regression problems.KNN works by finding the distances between a query and all the examples in the data, selecting the specified number examples (K) closest to the query, then votes for the most frequent label (in the case of classification) or averages the labels (in the case of regression).\n",
        "\n",
        "\n",
        "\n"
      ],
      "metadata": {
        "id": "cpa5lfcOolse"
      }
    },
    {
      "cell_type": "code",
      "source": [
        "from sklearn.neighbors import KNeighborsClassifier\n",
        "knn=KNeighborsClassifier(n_neighbors=1)\n",
        "knn.fit(X_train,y_train)"
      ],
      "metadata": {
        "id": "UyLIJEy5WWTj",
        "colab": {
          "base_uri": "https://localhost:8080/"
        },
        "outputId": "e15ba468-a7dc-4377-8eb3-34009a1169d6"
      },
      "execution_count": 233,
      "outputs": [
        {
          "output_type": "execute_result",
          "data": {
            "text/plain": [
              "KNeighborsClassifier(n_neighbors=1)"
            ]
          },
          "metadata": {},
          "execution_count": 233
        }
      ]
    },
    {
      "cell_type": "code",
      "source": [
        "pred = knn.predict(X_test)\n",
        "k= accuracy_score(y_test,pred)\n",
        "print('With k = 1')\n",
        "print(\"\\n\")\n",
        "print(\"confussion matrix\")\n",
        "print(confusion_matrix(y_test,pred))\n",
        "print(\"\\n\")\n",
        "print(\"Accuracy of K-NeighborsClassifier:\",k*100,'\\n')\n",
        "print(classification_report(y_test,pred))"
      ],
      "metadata": {
        "id": "YqSofd8TWWQe",
        "colab": {
          "base_uri": "https://localhost:8080/"
        },
        "outputId": "3cd97de9-6cfe-46d9-f5b8-77a08aecea23"
      },
      "execution_count": 234,
      "outputs": [
        {
          "output_type": "stream",
          "name": "stdout",
          "text": [
            "With k = 1\n",
            "\n",
            "\n",
            "confussion matrix\n",
            "[[831  94]\n",
            " [138  34]]\n",
            "\n",
            "\n",
            "Accuracy of K-NeighborsClassifier: 78.8514129443938 \n",
            "\n",
            "              precision    recall  f1-score   support\n",
            "\n",
            "           0       0.86      0.90      0.88       925\n",
            "           1       0.27      0.20      0.23       172\n",
            "\n",
            "    accuracy                           0.79      1097\n",
            "   macro avg       0.56      0.55      0.55      1097\n",
            "weighted avg       0.76      0.79      0.78      1097\n",
            "\n"
          ]
        }
      ]
    },
    {
      "cell_type": "code",
      "source": [
        "error_rate=[]\n",
        "\n",
        "for i in range(1,30):\n",
        "\n",
        "  knn=KNeighborsClassifier(n_neighbors=i)\n",
        "  knn.fit(X_train,y_train)\n",
        "  pred_i=knn.predict(X_test)\n",
        "  error_rate.append (np.mean(pred_i != y_test))"
      ],
      "metadata": {
        "id": "CoA4pi8zWWNo"
      },
      "execution_count": 235,
      "outputs": []
    },
    {
      "cell_type": "code",
      "source": [
        "plt.figure(figsize=(12,6))\n",
        "plt.plot(range(1,30), error_rate, color='blue', linestyle='dashed', marker='o', markerfacecolor='red', markersize=10)\n",
        "plt.title('Error Rate vs K Value')\n",
        "plt.xlabel('K')\n",
        "plt.ylabel('Error Rate')"
      ],
      "metadata": {
        "id": "5Kdj_gWaWynk",
        "colab": {
          "base_uri": "https://localhost:8080/",
          "height": 421
        },
        "outputId": "6d02f392-442e-4fd2-cd28-ac232d6059e4"
      },
      "execution_count": 236,
      "outputs": [
        {
          "output_type": "execute_result",
          "data": {
            "text/plain": [
              "Text(0, 0.5, 'Error Rate')"
            ]
          },
          "metadata": {},
          "execution_count": 236
        },
        {
          "output_type": "display_data",
          "data": {
            "text/plain": [
              "<Figure size 864x432 with 1 Axes>"
            ],
            "image/png": "[encoded data removed]"
          },
          "metadata": {
            "needs_background": "light"
          }
        }
      ]
    },
    {
      "cell_type": "code",
      "source": [
        "print(\"Minimum error:-\",min(error_rate),\"at K =\",error_rate.index(min(error_rate))+1)"
      ],
      "metadata": {
        "id": "eKNKHkovWykD",
        "colab": {
          "base_uri": "https://localhost:8080/"
        },
        "outputId": "2ef04053-dff5-4571-94ab-3bcc7db3c2ee"
      },
      "execution_count": 237,
      "outputs": [
        {
          "output_type": "stream",
          "name": "stdout",
          "text": [
            "Minimum error:- 0.15587967183226983 at K = 12\n"
          ]
        }
      ]
    },
    {
      "cell_type": "code",
      "source": [
        "knn = KNeighborsClassifier(n_neighbors=12)\n",
        "knn.fit(X_train, y_train)\n",
        "pred = knn.predict(X_test)\n",
        "k= accuracy_score(y_test,pred)\n",
        "print('With k = 12')\n",
        "print(\"\\n\")\n",
        "print(\"confussion matrix\")\n",
        "print(confusion_matrix(y_test,pred))\n",
        "print(\"\\n\")\n",
        "print(\"Accuracy of K-NeighborsClassifier:\",k*100,'\\n')\n",
        "print(classification_report(y_test,pred))"
      ],
      "metadata": {
        "id": "5Q5QJywqXAcD",
        "colab": {
          "base_uri": "https://localhost:8080/"
        },
        "outputId": "aaa08831-79c3-4d2a-b544-59ac19927f41"
      },
      "execution_count": 239,
      "outputs": [
        {
          "output_type": "stream",
          "name": "stdout",
          "text": [
            "With k = 12\n",
            "\n",
            "\n",
            "confussion matrix\n",
            "[[921   4]\n",
            " [167   5]]\n",
            "\n",
            "\n",
            "Accuracy of K-NeighborsClassifier: 84.41203281677302 \n",
            "\n",
            "              precision    recall  f1-score   support\n",
            "\n",
            "           0       0.85      1.00      0.92       925\n",
            "           1       0.56      0.03      0.06       172\n",
            "\n",
            "    accuracy                           0.84      1097\n",
            "   macro avg       0.70      0.51      0.49      1097\n",
            "weighted avg       0.80      0.84      0.78      1097\n",
            "\n"
          ]
        }
      ]
    },
    {
      "cell_type": "markdown",
      "source": [
        "# **Desicion Tree Model**\n",
        "Decision Trees (DTs) are a non-parametric supervised learning method used for classification and regression. The goal is to create a model that predicts the value of a target variable by learning simple decision rules inferred from the data features. A tree can be seen as a piecewise constant approximation."
      ],
      "metadata": {
        "id": "VB5x738FXMDY"
      }
    },
    {
      "cell_type": "code",
      "source": [
        "from sklearn.tree import DecisionTreeClassifier"
      ],
      "metadata": {
        "id": "0wVxkocuXAV2"
      },
      "execution_count": 240,
      "outputs": []
    },
    {
      "cell_type": "code",
      "source": [
        "dtree=DecisionTreeClassifier()\n",
        "dtree.fit(X_train,y_train)"
      ],
      "metadata": {
        "id": "JZu3RimLXQRz",
        "colab": {
          "base_uri": "https://localhost:8080/"
        },
        "outputId": "2c7962ef-9069-4d78-b562-510c0ee2aef6"
      },
      "execution_count": 241,
      "outputs": [
        {
          "output_type": "execute_result",
          "data": {
            "text/plain": [
              "DecisionTreeClassifier()"
            ]
          },
          "metadata": {},
          "execution_count": 241
        }
      ]
    },
    {
      "cell_type": "code",
      "source": [
        "d_pred=dtree.predict(X_test)"
      ],
      "metadata": {
        "id": "Vp89PnUVXQOT"
      },
      "execution_count": 242,
      "outputs": []
    },
    {
      "cell_type": "code",
      "source": [
        "d_acc_score=accuracy_score(y_test,d_pred)"
      ],
      "metadata": {
        "id": "nzjvaNSLXYze"
      },
      "execution_count": 243,
      "outputs": []
    },
    {
      "cell_type": "code",
      "source": [
        "print(confusion_matrix(y_test,d_pred))"
      ],
      "metadata": {
        "id": "CJJRdRtwXYvz",
        "colab": {
          "base_uri": "https://localhost:8080/"
        },
        "outputId": "f3414020-00fc-4788-e670-5f3ead3bacab"
      },
      "execution_count": 244,
      "outputs": [
        {
          "output_type": "stream",
          "name": "stdout",
          "text": [
            "[[784 141]\n",
            " [135  37]]\n"
          ]
        }
      ]
    },
    {
      "cell_type": "code",
      "source": [
        "print(classification_report(y_test,d_pred))"
      ],
      "metadata": {
        "id": "4S1U_ummBkNq",
        "colab": {
          "base_uri": "https://localhost:8080/"
        },
        "outputId": "5410ea3d-a54d-4d94-e5b1-0a5e164cb1a8"
      },
      "execution_count": 245,
      "outputs": [
        {
          "output_type": "stream",
          "name": "stdout",
          "text": [
            "              precision    recall  f1-score   support\n",
            "\n",
            "           0       0.85      0.85      0.85       925\n",
            "           1       0.21      0.22      0.21       172\n",
            "\n",
            "    accuracy                           0.75      1097\n",
            "   macro avg       0.53      0.53      0.53      1097\n",
            "weighted avg       0.75      0.75      0.75      1097\n",
            "\n"
          ]
        }
      ]
    },
    {
      "cell_type": "markdown",
      "source": [
        "# **Random Forest Model**\n",
        "Random forest is a Supervised Machine Learning Algorithm that is used widely in Classification and Regression problems. It builds decision trees on different samples and takes their majority vote for classification and average in case of regression.\n"
      ],
      "metadata": {
        "id": "j6u4BSYFXier"
      }
    },
    {
      "cell_type": "code",
      "source": [
        "from sklearn.ensemble import RandomForestClassifier\n",
        "rfc=RandomForestClassifier(n_estimators=100)\n",
        "rfc.fit(X_train,y_train)"
      ],
      "metadata": {
        "id": "xbFEfUJ4XmPK",
        "colab": {
          "base_uri": "https://localhost:8080/"
        },
        "outputId": "85dd9520-af1b-441f-a11e-7189a05b1f18"
      },
      "execution_count": 246,
      "outputs": [
        {
          "output_type": "execute_result",
          "data": {
            "text/plain": [
              "RandomForestClassifier()"
            ]
          },
          "metadata": {},
          "execution_count": 246
        }
      ]
    },
    {
      "cell_type": "code",
      "source": [
        "rfc_pred=rfc.predict(X_test)"
      ],
      "metadata": {
        "id": "ujPuTUX8XmL9"
      },
      "execution_count": 247,
      "outputs": []
    },
    {
      "cell_type": "code",
      "source": [
        "rfc_acc_score=accuracy_score(y_test,rfc_pred)"
      ],
      "metadata": {
        "id": "pnVULL_PXmJj"
      },
      "execution_count": 248,
      "outputs": []
    },
    {
      "cell_type": "code",
      "source": [
        "print(confusion_matrix(y_test,rfc_pred))"
      ],
      "metadata": {
        "id": "kYgLrL00XmHK",
        "colab": {
          "base_uri": "https://localhost:8080/"
        },
        "outputId": "054239e7-5a8c-4271-d618-47267e0919ce"
      },
      "execution_count": 249,
      "outputs": [
        {
          "output_type": "stream",
          "name": "stdout",
          "text": [
            "[[915  10]\n",
            " [165   7]]\n"
          ]
        }
      ]
    },
    {
      "cell_type": "code",
      "source": [
        "print(classification_report(y_test,rfc_pred))"
      ],
      "metadata": {
        "id": "NoAIN2cSXtzF",
        "colab": {
          "base_uri": "https://localhost:8080/"
        },
        "outputId": "b0b94a0b-01df-403b-b312-d082d29b7dcc"
      },
      "execution_count": 250,
      "outputs": [
        {
          "output_type": "stream",
          "name": "stdout",
          "text": [
            "              precision    recall  f1-score   support\n",
            "\n",
            "           0       0.85      0.99      0.91       925\n",
            "           1       0.41      0.04      0.07       172\n",
            "\n",
            "    accuracy                           0.84      1097\n",
            "   macro avg       0.63      0.51      0.49      1097\n",
            "weighted avg       0.78      0.84      0.78      1097\n",
            "\n"
          ]
        }
      ]
    },
    {
      "cell_type": "markdown",
      "source": [
        "# **Logistic Model**\n",
        "Logistic regression is the appropriate regression analysis to conduct when the dependent variable is dichotomous (binary).  Like all regression analyses, the logistic regression is a predictive analysis.It is used to describe data and to explain the relationship between one dependent binary variable and one or more nominal, ordinal, interval or ratio-level independent variables."
      ],
      "metadata": {
        "id": "oEmH9ktpX5Y3"
      }
    },
    {
      "cell_type": "code",
      "source": [
        "from sklearn.linear_model import LogisticRegression"
      ],
      "metadata": {
        "id": "xTqpc7rDX8qy"
      },
      "execution_count": 251,
      "outputs": []
    },
    {
      "cell_type": "code",
      "source": [
        "logmodel = LogisticRegression()\n",
        "logmodel.fit(X_train, y_train)"
      ],
      "metadata": {
        "id": "lZ0skVYSX8oa",
        "colab": {
          "base_uri": "https://localhost:8080/"
        },
        "outputId": "60e575ae-bb80-4449-9d3f-592447a36622"
      },
      "execution_count": 252,
      "outputs": [
        {
          "output_type": "stream",
          "name": "stderr",
          "text": [
            "/usr/local/lib/python3.7/dist-packages/sklearn/linear_model/_logistic.py:818: ConvergenceWarning: lbfgs failed to converge (status=1):\n",
            "STOP: TOTAL NO. of ITERATIONS REACHED LIMIT.\n",
            "\n",
            "Increase the number of iterations (max_iter) or scale the data as shown in:\n",
            "    https://scikit-learn.org/stable/modules/preprocessing.html\n",
            "Please also refer to the documentation for alternative solver options:\n",
            "    https://scikit-learn.org/stable/modules/linear_model.html#logistic-regression\n",
            "  extra_warning_msg=_LOGISTIC_SOLVER_CONVERGENCE_MSG,\n"
          ]
        },
        {
          "output_type": "execute_result",
          "data": {
            "text/plain": [
              "LogisticRegression()"
            ]
          },
          "metadata": {},
          "execution_count": 252
        }
      ]
    },
    {
      "cell_type": "code",
      "source": [
        "y_pred = logmodel.predict(X_test)"
      ],
      "metadata": {
        "id": "OOfr9GxcX8kf"
      },
      "execution_count": 253,
      "outputs": []
    },
    {
      "cell_type": "code",
      "source": [
        "log_acc_score=accuracy_score(y_test,y_pred)"
      ],
      "metadata": {
        "id": "74NkNmf2XhwX"
      },
      "execution_count": 254,
      "outputs": []
    },
    {
      "cell_type": "code",
      "source": [
        "print(confusion_matrix(y_test,y_pred))"
      ],
      "metadata": {
        "id": "b6MyWZO_YEEU",
        "colab": {
          "base_uri": "https://localhost:8080/"
        },
        "outputId": "c5a79572-1b64-40cb-9995-533d5e1ae9d9"
      },
      "execution_count": 255,
      "outputs": [
        {
          "output_type": "stream",
          "name": "stdout",
          "text": [
            "[[912  13]\n",
            " [166   6]]\n"
          ]
        }
      ]
    },
    {
      "cell_type": "code",
      "source": [
        "print(classification_report(y_test, y_pred))"
      ],
      "metadata": {
        "id": "1CeBv7YyYEBA",
        "colab": {
          "base_uri": "https://localhost:8080/"
        },
        "outputId": "effee618-be2b-4cfb-b464-ea7bb9f3dfc1"
      },
      "execution_count": 256,
      "outputs": [
        {
          "output_type": "stream",
          "name": "stdout",
          "text": [
            "              precision    recall  f1-score   support\n",
            "\n",
            "           0       0.85      0.99      0.91       925\n",
            "           1       0.32      0.03      0.06       172\n",
            "\n",
            "    accuracy                           0.84      1097\n",
            "   macro avg       0.58      0.51      0.49      1097\n",
            "weighted avg       0.76      0.84      0.78      1097\n",
            "\n"
          ]
        }
      ]
    },
    {
      "cell_type": "markdown",
      "source": [
        "# **Support Vector Classifier**\n",
        "Support Vector Machine (SVM) is a supervised machine learning algorithm that can be used for both classification or regression challenges. However,  it is mostly used in classification problems. In the SVM algorithm, we plot each data item as a point in n-dimensional space (where n is a number of features you have) with the value of each feature being the value of a particular coordinate. Then, we perform classification by finding the hyper-plane that differentiates the two classes very well"
      ],
      "metadata": {
        "id": "zhj9zNU6YK0P"
      }
    },
    {
      "cell_type": "code",
      "source": [
        "from sklearn.svm import SVC"
      ],
      "metadata": {
        "id": "0_9r0Ug3YJAq"
      },
      "execution_count": 257,
      "outputs": []
    },
    {
      "cell_type": "code",
      "source": [
        "svc=SVC()\n",
        "svc.fit(X_train, y_train)\n",
        "svc_predicted = svc.predict(X_test)\n",
        "svc_conf_matrix = confusion_matrix(y_test, svc_predicted)\n",
        "svc_acc_score = accuracy_score(y_test, svc_predicted)\n",
        "print(\"confussion matrix\")\n",
        "print(svc_conf_matrix)\n",
        "print(\"\\n\")\n",
        "print(\"Accuracy of Support Vector Classifier:\",svc_acc_score*100,'\\n')\n",
        "print(classification_report(y_test,svc_predicted))"
      ],
      "metadata": {
        "id": "8yixqX4LYI-D",
        "colab": {
          "base_uri": "https://localhost:8080/"
        },
        "outputId": "9352f907-49d6-40be-f751-de32f03d7271"
      },
      "execution_count": 258,
      "outputs": [
        {
          "output_type": "stream",
          "name": "stdout",
          "text": [
            "confussion matrix\n",
            "[[924   1]\n",
            " [172   0]]\n",
            "\n",
            "\n",
            "Accuracy of Support Vector Classifier: 84.22971741112124 \n",
            "\n",
            "              precision    recall  f1-score   support\n",
            "\n",
            "           0       0.84      1.00      0.91       925\n",
            "           1       0.00      0.00      0.00       172\n",
            "\n",
            "    accuracy                           0.84      1097\n",
            "   macro avg       0.42      0.50      0.46      1097\n",
            "weighted avg       0.71      0.84      0.77      1097\n",
            "\n"
          ]
        }
      ]
    },
    {
      "cell_type": "markdown",
      "source": [
        "# Task 9: **Accuracy**"
      ],
      "metadata": {
        "id": "AFUTnV8UbXEi"
      }
    },
    {
      "cell_type": "code",
      "source": [
        "model_ev = pd.DataFrame({'Model': ['Logistic Regression','Random Forest','K-Nearest Neighbour','Decision Tree','Support Vector Machine'], 'Accuracy': [log_acc_score*100,\n",
        "                   rfc_acc_score*100,k*100,d_acc_score*100,svc_acc_score*100]})\n",
        "model_ev"
      ],
      "metadata": {
        "id": "j3p9vtaRYI49",
        "colab": {
          "base_uri": "https://localhost:8080/",
          "height": 206
        },
        "outputId": "1ad3d19d-b8f7-49b9-e206-09bcb225ecbe"
      },
      "execution_count": 259,
      "outputs": [
        {
          "output_type": "execute_result",
          "data": {
            "text/plain": [
              "                    Model   Accuracy\n",
              "0     Logistic Regression  83.682771\n",
              "1           Random Forest  84.047402\n",
              "2     K-Nearest Neighbour  84.412033\n",
              "3           Decision Tree  74.840474\n",
              "4  Support Vector Machine  84.229717"
            ],
            "text/html": [
              "\n",
              "  <div id=\"df-dd0f4bc4-c378-4b2c-8ce5-b258e4a713a9\">\n",
              "    <div class=\"colab-df-container\">\n",
              "      <div>\n",
              "<style scoped>\n",
              "    .dataframe tbody tr th:only-of-type {\n",
              "        vertical-align: middle;\n",
              "    }\n",
              "\n",
              "    .dataframe tbody tr th {\n",
              "        vertical-align: top;\n",
              "    }\n",
              "\n",
              "    .dataframe thead th {\n",
              "        text-align: right;\n",
              "    }\n",
              "</style>\n",
              "<table border=\"1\" class=\"dataframe\">\n",
              "  <thead>\n",
              "    <tr style=\"text-align: right;\">\n",
              "      <th></th>\n",
              "      <th>Model</th>\n",
              "      <th>Accuracy</th>\n",
              "    </tr>\n",
              "  </thead>\n",
              "  <tbody>\n",
              "    <tr>\n",
              "      <th>0</th>\n",
              "      <td>Logistic Regression</td>\n",
              "      <td>83.682771</td>\n",
              "    </tr>\n",
              "    <tr>\n",
              "      <th>1</th>\n",
              "      <td>Random Forest</td>\n",
              "      <td>84.047402</td>\n",
              "    </tr>\n",
              "    <tr>\n",
              "      <th>2</th>\n",
              "      <td>K-Nearest Neighbour</td>\n",
              "      <td>84.412033</td>\n",
              "    </tr>\n",
              "    <tr>\n",
              "      <th>3</th>\n",
              "      <td>Decision Tree</td>\n",
              "      <td>74.840474</td>\n",
              "    </tr>\n",
              "    <tr>\n",
              "      <th>4</th>\n",
              "      <td>Support Vector Machine</td>\n",
              "      <td>84.229717</td>\n",
              "    </tr>\n",
              "  </tbody>\n",
              "</table>\n",
              "</div>\n",
              "      <button class=\"colab-df-convert\" onclick=\"convertToInteractive('df-dd0f4bc4-c378-4b2c-8ce5-b258e4a713a9')\"\n",
              "              title=\"Convert this dataframe to an interactive table.\"\n",
              "              style=\"display:none;\">\n",
              "        \n",
              "  <svg xmlns=\"http://www.w3.org/2000/svg\" height=\"24px\"viewBox=\"0 0 24 24\"\n",
              "       width=\"24px\">\n",
              "    <path d=\"M0 0h24v24H0V0z\" fill=\"none\"/>\n",
              "    <path d=\"M18.56 5.44l.94 2.06.94-2.06 2.06-.94-2.06-.94-.94-2.06-.94 2.06-2.06.94zm-11 1L8.5 8.5l.94-2.06 2.06-.94-2.06-.94L8.5 2.5l-.94 2.06-2.06.94zm10 10l.94 2.06.94-2.06 2.06-.94-2.06-.94-.94-2.06-.94 2.06-2.06.94z\"/><path d=\"M17.41 7.96l-1.37-1.37c-.4-.4-.92-.59-1.43-.59-.52 0-1.04.2-1.43.59L10.3 9.45l-7.72 7.72c-.78.78-.78 2.05 0 2.83L4 21.41c.39.39.9.59 1.41.59.51 0 1.02-.2 1.41-.59l7.78-7.78 2.81-2.81c.8-.78.8-2.07 0-2.86zM5.41 20L4 18.59l7.72-7.72 1.47 1.35L5.41 20z\"/>\n",
              "  </svg>\n",
              "      </button>\n",
              "      \n",
              "  <style>\n",
              "    .colab-df-container {\n",
              "      display:flex;\n",
              "      flex-wrap:wrap;\n",
              "      gap: 12px;\n",
              "    }\n",
              "\n",
              "    .colab-df-convert {\n",
              "      background-color: #E8F0FE;\n",
              "      border: none;\n",
              "      border-radius: 50%;\n",
              "      cursor: pointer;\n",
              "      display: none;\n",
              "      fill: #1967D2;\n",
              "      height: 32px;\n",
              "      padding: 0 0 0 0;\n",
              "      width: 32px;\n",
              "    }\n",
              "\n",
              "    .colab-df-convert:hover {\n",
              "      background-color: #E2EBFA;\n",
              "      box-shadow: 0px 1px 2px rgba(60, 64, 67, 0.3), 0px 1px 3px 1px rgba(60, 64, 67, 0.15);\n",
              "      fill: #174EA6;\n",
              "    }\n",
              "\n",
              "    [theme=dark] .colab-df-convert {\n",
              "      background-color: #3B4455;\n",
              "      fill: #D2E3FC;\n",
              "    }\n",
              "\n",
              "    [theme=dark] .colab-df-convert:hover {\n",
              "      background-color: #434B5C;\n",
              "      box-shadow: 0px 1px 3px 1px rgba(0, 0, 0, 0.15);\n",
              "      filter: drop-shadow(0px 1px 2px rgba(0, 0, 0, 0.3));\n",
              "      fill: #FFFFFF;\n",
              "    }\n",
              "  </style>\n",
              "\n",
              "      <script>\n",
              "        const buttonEl =\n",
              "          document.querySelector('#df-dd0f4bc4-c378-4b2c-8ce5-b258e4a713a9 button.colab-df-convert');\n",
              "        buttonEl.style.display =\n",
              "          google.colab.kernel.accessAllowed ? 'block' : 'none';\n",
              "\n",
              "        async function convertToInteractive(key) {\n",
              "          const element = document.querySelector('#df-dd0f4bc4-c378-4b2c-8ce5-b258e4a713a9');\n",
              "          const dataTable =\n",
              "            await google.colab.kernel.invokeFunction('convertToInteractive',\n",
              "                                                     [key], {});\n",
              "          if (!dataTable) return;\n",
              "\n",
              "          const docLinkHtml = 'Like what you see? Visit the ' +\n",
              "            '<a target=\"_blank\" href=https://colab.research.google.com/notebooks/data_table.ipynb>data table notebook</a>'\n",
              "            + ' to learn more about interactive tables.';\n",
              "          element.innerHTML = '';\n",
              "          dataTable['output_type'] = 'display_data';\n",
              "          await google.colab.output.renderOutput(dataTable, element);\n",
              "          const docLink = document.createElement('div');\n",
              "          docLink.innerHTML = docLinkHtml;\n",
              "          element.appendChild(docLink);\n",
              "        }\n",
              "      </script>\n",
              "    </div>\n",
              "  </div>\n",
              "  "
            ]
          },
          "metadata": {},
          "execution_count": 259
        }
      ]
    },
    {
      "cell_type": "markdown",
      "source": [
        "# **Graph:**\n",
        "Graphical represntationof the above accuracy model"
      ],
      "metadata": {
        "id": "3IafDSX3b5tH"
      }
    },
    {
      "cell_type": "code",
      "source": [
        "colors = ['red','green','blue','gold','silver','yellow','orange',]\n",
        "plt.figure(figsize=(12,5))\n",
        "plt.title(\"barplot Represent Accuracy of different models\")\n",
        "plt.xlabel(\"Accuracy %\")\n",
        "plt.ylabel(\"Algorithms\")\n",
        "plt.bar(model_ev['Model'],model_ev['Accuracy'],color = colors)\n",
        "plt.show()"
      ],
      "metadata": {
        "id": "b3BJ6RRrYI2R",
        "colab": {
          "base_uri": "https://localhost:8080/",
          "height": 350
        },
        "outputId": "f7afd1ee-8ca1-4375-ce94-16ed5595d6f1"
      },
      "execution_count": 260,
      "outputs": [
        {
          "output_type": "display_data",
          "data": {
            "text/plain": [
              "<Figure size 864x360 with 1 Axes>"
            ],
            "image/png": "[encoded data removed]"
          },
          "metadata": {
            "needs_background": "light"
          }
        }
      ]
    },
    {
      "cell_type": "markdown",
      "source": [
        "#Task 6: **Second Train Test Split:**\n",
        "(Second test, Tajrin)"
      ],
      "metadata": {
        "id": "kBmjsBsTUBqQ"
      }
    },
    {
      "cell_type": "code",
      "source": [
        "from sklearn.model_selection import train_test_split"
      ],
      "metadata": {
        "id": "EWw-bzEPUKtZ"
      },
      "execution_count": 261,
      "outputs": []
    },
    {
      "cell_type": "code",
      "source": [
        "X=heart.drop('heart_attack', axis=1)\n",
        "y=heart['heart_attack']"
      ],
      "metadata": {
        "id": "MsjCjrVlUKp8"
      },
      "execution_count": 262,
      "outputs": []
    },
    {
      "cell_type": "code",
      "source": [
        "#test2\n",
        "#The dataset will be splitted into 80:20 ratio (80% training and 20% testing).\n",
        "X_train,X_test,y_train,y_test = train_test_split(X,y,test_size = 0.20)"
      ],
      "metadata": {
        "id": "t2wtRSZnUKnV"
      },
      "execution_count": 263,
      "outputs": []
    },
    {
      "cell_type": "markdown",
      "source": [
        "#Task 7: **Feautre Scaling**"
      ],
      "metadata": {
        "id": "0eYISwf-UukW"
      }
    },
    {
      "cell_type": "code",
      "source": [
        "##scale\n",
        "from sklearn.preprocessing import StandardScaler\n",
        "scaler=StandardScaler()\n",
        "scaler.fit(X_train)"
      ],
      "metadata": {
        "id": "GiYY91WvUKk9",
        "colab": {
          "base_uri": "https://localhost:8080/"
        },
        "outputId": "9b24dcff-366c-4916-f04b-39aeb2b7f887"
      },
      "execution_count": 264,
      "outputs": [
        {
          "output_type": "execute_result",
          "data": {
            "text/plain": [
              "StandardScaler()"
            ]
          },
          "metadata": {},
          "execution_count": 264
        }
      ]
    },
    {
      "cell_type": "code",
      "source": [
        "scaled_x_train=scaler.transform(X_train)"
      ],
      "metadata": {
        "id": "1vD3rI2hUKiq"
      },
      "execution_count": 265,
      "outputs": []
    },
    {
      "cell_type": "code",
      "source": [
        "scaled_x_test=scaler.transform(X_test)"
      ],
      "metadata": {
        "id": "HCMzTMaMUKgG"
      },
      "execution_count": 266,
      "outputs": []
    },
    {
      "cell_type": "code",
      "source": [
        "### prediction\n",
        "from sklearn.metrics import classification_report,confusion_matrix"
      ],
      "metadata": {
        "id": "lTVs3z00UKdu"
      },
      "execution_count": 267,
      "outputs": []
    },
    {
      "cell_type": "code",
      "source": [
        "#accuracy\n",
        "from sklearn.metrics import accuracy_score"
      ],
      "metadata": {
        "id": "e_ot3niQUKbW"
      },
      "execution_count": 268,
      "outputs": []
    },
    {
      "cell_type": "markdown",
      "source": [
        "# **Task 8: ML Model**"
      ],
      "metadata": {
        "id": "KVuH5G-1Vv1I"
      }
    },
    {
      "cell_type": "markdown",
      "source": [
        "#KNN Model"
      ],
      "metadata": {
        "id": "bCL0Zatlqlso"
      }
    },
    {
      "cell_type": "code",
      "source": [
        "from sklearn.neighbors import KNeighborsClassifier\n",
        "knn=KNeighborsClassifier(n_neighbors=1)\n",
        "knn.fit(X_train,y_train)"
      ],
      "metadata": {
        "id": "gAsm5yHfUKY2",
        "colab": {
          "base_uri": "https://localhost:8080/"
        },
        "outputId": "64f45a5a-bd8b-4b10-ee91-d38649ab5ad4"
      },
      "execution_count": 269,
      "outputs": [
        {
          "output_type": "execute_result",
          "data": {
            "text/plain": [
              "KNeighborsClassifier(n_neighbors=1)"
            ]
          },
          "metadata": {},
          "execution_count": 269
        }
      ]
    },
    {
      "cell_type": "code",
      "source": [
        "pred = knn.predict(X_test)\n",
        "k= accuracy_score(y_test,pred)\n",
        "print('With k = 1')\n",
        "print(\"\\n\")\n",
        "print(\"confussion matrix\")\n",
        "print(confusion_matrix(y_test,pred))\n",
        "print(\"\\n\")\n",
        "print(\"Accuracy of K-NeighborsClassifier:\",k*100,'\\n')\n",
        "print(classification_report(y_test,pred))"
      ],
      "metadata": {
        "id": "aWmIFiN2UKWf",
        "colab": {
          "base_uri": "https://localhost:8080/"
        },
        "outputId": "77e9cc16-106f-416b-fd70-d3502cc7e20b"
      },
      "execution_count": 270,
      "outputs": [
        {
          "output_type": "stream",
          "name": "stdout",
          "text": [
            "With k = 1\n",
            "\n",
            "\n",
            "confussion matrix\n",
            "[[547  73]\n",
            " [ 91  21]]\n",
            "\n",
            "\n",
            "Accuracy of K-NeighborsClassifier: 77.59562841530054 \n",
            "\n",
            "              precision    recall  f1-score   support\n",
            "\n",
            "           0       0.86      0.88      0.87       620\n",
            "           1       0.22      0.19      0.20       112\n",
            "\n",
            "    accuracy                           0.78       732\n",
            "   macro avg       0.54      0.53      0.54       732\n",
            "weighted avg       0.76      0.78      0.77       732\n",
            "\n"
          ]
        }
      ]
    },
    {
      "cell_type": "code",
      "source": [
        "error_rate=[]\n",
        "\n",
        "for i in range(1,30):\n",
        "\n",
        "  knn=KNeighborsClassifier(n_neighbors=i)\n",
        "  knn.fit(X_train,y_train)\n",
        "  pred_i=knn.predict(X_test)\n",
        "  error_rate.append (np.mean(pred_i != y_test))"
      ],
      "metadata": {
        "id": "BhGqDdswUKR-"
      },
      "execution_count": 271,
      "outputs": []
    },
    {
      "cell_type": "code",
      "source": [
        "plt.figure(figsize=(12,6))\n",
        "plt.plot(range(1,30), error_rate, color='blue', linestyle='dashed', marker='o', markerfacecolor='red', markersize=10)\n",
        "plt.title('Error Rate vs K Value')\n",
        "plt.xlabel('K')\n",
        "plt.ylabel('Error Rate')"
      ],
      "metadata": {
        "id": "KixlGbmNUKPx",
        "colab": {
          "base_uri": "https://localhost:8080/",
          "height": 421
        },
        "outputId": "a07d6118-ef06-4a61-aceb-c6ae2e30f842"
      },
      "execution_count": 272,
      "outputs": [
        {
          "output_type": "execute_result",
          "data": {
            "text/plain": [
              "Text(0, 0.5, 'Error Rate')"
            ]
          },
          "metadata": {},
          "execution_count": 272
        },
        {
          "output_type": "display_data",
          "data": {
            "text/plain": [
              "<Figure size 864x432 with 1 Axes>"
            ],
            "image/png": "[encoded data removed]"
          },
          "metadata": {
            "needs_background": "light"
          }
        }
      ]
    },
    {
      "cell_type": "code",
      "source": [
        "print(\"Minimum error:-\",min(error_rate),\"at K =\",error_rate.index(min(error_rate))+1)"
      ],
      "metadata": {
        "id": "PDjT7VWUUKLX",
        "colab": {
          "base_uri": "https://localhost:8080/"
        },
        "outputId": "f81bcc4b-7189-4e47-d6ca-a1eb27d9e9cb"
      },
      "execution_count": 273,
      "outputs": [
        {
          "output_type": "stream",
          "name": "stdout",
          "text": [
            "Minimum error:- 0.14207650273224043 at K = 21\n"
          ]
        }
      ]
    },
    {
      "cell_type": "code",
      "source": [
        "knn = KNeighborsClassifier(n_neighbors=21)\n",
        "knn.fit(X_train, y_train)\n",
        "pred = knn.predict(X_test)\n",
        "k= accuracy_score(y_test,pred)\n",
        "print('With k = 21')\n",
        "print(\"\\n\")\n",
        "print(\"confussion matrix\")\n",
        "print(confusion_matrix(y_test,pred))\n",
        "print(\"\\n\")\n",
        "print(\"Accuracy of K-NeighborsClassifier:\",k*100,'\\n')\n",
        "print(classification_report(y_test,pred))"
      ],
      "metadata": {
        "id": "XOJ6IWJVUKIQ",
        "colab": {
          "base_uri": "https://localhost:8080/"
        },
        "outputId": "24da1cbe-f57e-484b-b7d1-931873b82d75"
      },
      "execution_count": 275,
      "outputs": [
        {
          "output_type": "stream",
          "name": "stdout",
          "text": [
            "With k = 21\n",
            "\n",
            "\n",
            "confussion matrix\n",
            "[[619   1]\n",
            " [103   9]]\n",
            "\n",
            "\n",
            "Accuracy of K-NeighborsClassifier: 85.79234972677595 \n",
            "\n",
            "              precision    recall  f1-score   support\n",
            "\n",
            "           0       0.86      1.00      0.92       620\n",
            "           1       0.90      0.08      0.15       112\n",
            "\n",
            "    accuracy                           0.86       732\n",
            "   macro avg       0.88      0.54      0.54       732\n",
            "weighted avg       0.86      0.86      0.80       732\n",
            "\n"
          ]
        }
      ]
    },
    {
      "cell_type": "markdown",
      "source": [
        "# **Desicion Tree Model**"
      ],
      "metadata": {
        "id": "6wu5QHMNWFsz"
      }
    },
    {
      "cell_type": "code",
      "source": [
        "from sklearn.tree import DecisionTreeClassifier"
      ],
      "metadata": {
        "id": "eAeZW4C9UKFY"
      },
      "execution_count": 276,
      "outputs": []
    },
    {
      "cell_type": "code",
      "source": [
        "dtree=DecisionTreeClassifier()\n",
        "dtree.fit(X_train,y_train)"
      ],
      "metadata": {
        "id": "96BIqXEAUKDJ",
        "colab": {
          "base_uri": "https://localhost:8080/"
        },
        "outputId": "e2bb637a-0d0f-43bc-9430-09e5984b425e"
      },
      "execution_count": 277,
      "outputs": [
        {
          "output_type": "execute_result",
          "data": {
            "text/plain": [
              "DecisionTreeClassifier()"
            ]
          },
          "metadata": {},
          "execution_count": 277
        }
      ]
    },
    {
      "cell_type": "code",
      "source": [
        "d_pred=dtree.predict(X_test)"
      ],
      "metadata": {
        "id": "S0EqLXYZUKAm"
      },
      "execution_count": 278,
      "outputs": []
    },
    {
      "cell_type": "code",
      "source": [
        "d_acc_score=accuracy_score(y_test,d_pred)"
      ],
      "metadata": {
        "id": "dO2hHJltUJ-X"
      },
      "execution_count": 279,
      "outputs": []
    },
    {
      "cell_type": "code",
      "source": [
        "print(confusion_matrix(y_test,d_pred))"
      ],
      "metadata": {
        "id": "ifv6Q5BKUJ8B",
        "colab": {
          "base_uri": "https://localhost:8080/"
        },
        "outputId": "ab8b57ba-c27a-471c-a043-156c6b0ac7d0"
      },
      "execution_count": 280,
      "outputs": [
        {
          "output_type": "stream",
          "name": "stdout",
          "text": [
            "[[544  76]\n",
            " [ 87  25]]\n"
          ]
        }
      ]
    },
    {
      "cell_type": "code",
      "source": [
        "print(classification_report(y_test,d_pred))"
      ],
      "metadata": {
        "id": "FqEiG4HfUJ6G",
        "colab": {
          "base_uri": "https://localhost:8080/"
        },
        "outputId": "9e12eeda-4640-4e5e-bb83-b2fae1b86e55"
      },
      "execution_count": 281,
      "outputs": [
        {
          "output_type": "stream",
          "name": "stdout",
          "text": [
            "              precision    recall  f1-score   support\n",
            "\n",
            "           0       0.86      0.88      0.87       620\n",
            "           1       0.25      0.22      0.23       112\n",
            "\n",
            "    accuracy                           0.78       732\n",
            "   macro avg       0.55      0.55      0.55       732\n",
            "weighted avg       0.77      0.78      0.77       732\n",
            "\n"
          ]
        }
      ]
    },
    {
      "cell_type": "markdown",
      "source": [
        "# **Random Forest Model:**"
      ],
      "metadata": {
        "id": "MkxBhf0_WdZj"
      }
    },
    {
      "cell_type": "code",
      "source": [
        "from sklearn.ensemble import RandomForestClassifier\n",
        "rfc=RandomForestClassifier(n_estimators=100)\n",
        "rfc.fit(X_train,y_train)"
      ],
      "metadata": {
        "id": "a68ik_DQUJ3r",
        "colab": {
          "base_uri": "https://localhost:8080/"
        },
        "outputId": "06ffd64e-ff00-42c2-957b-bb591d0dfb6e"
      },
      "execution_count": 282,
      "outputs": [
        {
          "output_type": "execute_result",
          "data": {
            "text/plain": [
              "RandomForestClassifier()"
            ]
          },
          "metadata": {},
          "execution_count": 282
        }
      ]
    },
    {
      "cell_type": "code",
      "source": [
        "rfc_pred=rfc.predict(X_test)"
      ],
      "metadata": {
        "id": "X8H_TWIHUJ1m"
      },
      "execution_count": 283,
      "outputs": []
    },
    {
      "cell_type": "code",
      "source": [
        "rfc_acc_score=accuracy_score(y_test,rfc_pred)"
      ],
      "metadata": {
        "id": "FQgs_gGxWfDb"
      },
      "execution_count": 284,
      "outputs": []
    },
    {
      "cell_type": "code",
      "source": [
        "print(confusion_matrix(y_test,rfc_pred))"
      ],
      "metadata": {
        "id": "wW73tYOTUJzH",
        "colab": {
          "base_uri": "https://localhost:8080/"
        },
        "outputId": "0506991f-23a6-45fb-a378-ef5263391510"
      },
      "execution_count": 285,
      "outputs": [
        {
          "output_type": "stream",
          "name": "stdout",
          "text": [
            "[[616   4]\n",
            " [109   3]]\n"
          ]
        }
      ]
    },
    {
      "cell_type": "code",
      "source": [
        "print(classification_report(y_test,rfc_pred))"
      ],
      "metadata": {
        "id": "G8rVyyfMUJwj",
        "colab": {
          "base_uri": "https://localhost:8080/"
        },
        "outputId": "726dfbc4-5b10-4db7-d74b-63853c33cede"
      },
      "execution_count": 286,
      "outputs": [
        {
          "output_type": "stream",
          "name": "stdout",
          "text": [
            "              precision    recall  f1-score   support\n",
            "\n",
            "           0       0.85      0.99      0.92       620\n",
            "           1       0.43      0.03      0.05       112\n",
            "\n",
            "    accuracy                           0.85       732\n",
            "   macro avg       0.64      0.51      0.48       732\n",
            "weighted avg       0.79      0.85      0.78       732\n",
            "\n"
          ]
        }
      ]
    },
    {
      "cell_type": "markdown",
      "source": [
        "# **Logistic Model**"
      ],
      "metadata": {
        "id": "j-2wueZ6WsaT"
      }
    },
    {
      "cell_type": "code",
      "source": [
        "from sklearn.linear_model import LogisticRegression"
      ],
      "metadata": {
        "id": "Aj2MOsMjUJuA"
      },
      "execution_count": 287,
      "outputs": []
    },
    {
      "cell_type": "code",
      "source": [
        "logmodel = LogisticRegression()\n",
        "logmodel.fit(X_train, y_train)"
      ],
      "metadata": {
        "id": "o6vn3cZYUJrs",
        "colab": {
          "base_uri": "https://localhost:8080/"
        },
        "outputId": "df246b0d-e74d-4825-c943-fa79b2b55940"
      },
      "execution_count": 288,
      "outputs": [
        {
          "output_type": "stream",
          "name": "stderr",
          "text": [
            "/usr/local/lib/python3.7/dist-packages/sklearn/linear_model/_logistic.py:818: ConvergenceWarning: lbfgs failed to converge (status=1):\n",
            "STOP: TOTAL NO. of ITERATIONS REACHED LIMIT.\n",
            "\n",
            "Increase the number of iterations (max_iter) or scale the data as shown in:\n",
            "    https://scikit-learn.org/stable/modules/preprocessing.html\n",
            "Please also refer to the documentation for alternative solver options:\n",
            "    https://scikit-learn.org/stable/modules/linear_model.html#logistic-regression\n",
            "  extra_warning_msg=_LOGISTIC_SOLVER_CONVERGENCE_MSG,\n"
          ]
        },
        {
          "output_type": "execute_result",
          "data": {
            "text/plain": [
              "LogisticRegression()"
            ]
          },
          "metadata": {},
          "execution_count": 288
        }
      ]
    },
    {
      "cell_type": "code",
      "source": [
        "y_pred = logmodel.predict(X_test)"
      ],
      "metadata": {
        "id": "4SKAT7KoUJpR"
      },
      "execution_count": 289,
      "outputs": []
    },
    {
      "cell_type": "code",
      "source": [
        "log_acc_score=accuracy_score(y_test,y_pred)"
      ],
      "metadata": {
        "id": "z_KCKlHsUJmp"
      },
      "execution_count": 290,
      "outputs": []
    },
    {
      "cell_type": "code",
      "source": [
        "print(confusion_matrix(y_test,y_pred))"
      ],
      "metadata": {
        "id": "Pk3GHvS7UJkZ",
        "colab": {
          "base_uri": "https://localhost:8080/"
        },
        "outputId": "8780cf20-6274-4f06-fc3a-d4a9e4e2ce39"
      },
      "execution_count": 291,
      "outputs": [
        {
          "output_type": "stream",
          "name": "stdout",
          "text": [
            "[[619   1]\n",
            " [110   2]]\n"
          ]
        }
      ]
    },
    {
      "cell_type": "code",
      "source": [
        "print(classification_report(y_test, y_pred))"
      ],
      "metadata": {
        "id": "HbjsI6EBUJh_",
        "colab": {
          "base_uri": "https://localhost:8080/"
        },
        "outputId": "1462c456-e64c-458a-815f-1333b59539cf"
      },
      "execution_count": 292,
      "outputs": [
        {
          "output_type": "stream",
          "name": "stdout",
          "text": [
            "              precision    recall  f1-score   support\n",
            "\n",
            "           0       0.85      1.00      0.92       620\n",
            "           1       0.67      0.02      0.03       112\n",
            "\n",
            "    accuracy                           0.85       732\n",
            "   macro avg       0.76      0.51      0.48       732\n",
            "weighted avg       0.82      0.85      0.78       732\n",
            "\n"
          ]
        }
      ]
    },
    {
      "cell_type": "markdown",
      "source": [
        "# **Support Vector Classifier:**"
      ],
      "metadata": {
        "id": "k6T12Pb_W7Fm"
      }
    },
    {
      "cell_type": "code",
      "source": [
        "from sklearn.svm import SVC"
      ],
      "metadata": {
        "id": "oUTv7w7vUJfV"
      },
      "execution_count": 293,
      "outputs": []
    },
    {
      "cell_type": "code",
      "source": [
        "svc=SVC()\n",
        "svc.fit(X_train, y_train)\n",
        "svc_predicted = svc.predict(X_test)\n",
        "svc_conf_matrix = confusion_matrix(y_test, svc_predicted)\n",
        "svc_acc_score = accuracy_score(y_test, svc_predicted)\n",
        "print(\"confussion matrix\")\n",
        "print(svc_conf_matrix)\n",
        "print(\"\\n\")\n",
        "print(\"Accuracy of Support Vector Classifier:\",svc_acc_score*100,'\\n')\n",
        "print(classification_report(y_test,svc_predicted))"
      ],
      "metadata": {
        "id": "bxjFKtORUJcq",
        "colab": {
          "base_uri": "https://localhost:8080/"
        },
        "outputId": "fa02eea2-6d01-4422-bce5-69602b961fb4"
      },
      "execution_count": 294,
      "outputs": [
        {
          "output_type": "stream",
          "name": "stdout",
          "text": [
            "confussion matrix\n",
            "[[620   0]\n",
            " [112   0]]\n",
            "\n",
            "\n",
            "Accuracy of Support Vector Classifier: 84.69945355191257 \n",
            "\n",
            "              precision    recall  f1-score   support\n",
            "\n",
            "           0       0.85      1.00      0.92       620\n",
            "           1       0.00      0.00      0.00       112\n",
            "\n",
            "    accuracy                           0.85       732\n",
            "   macro avg       0.42      0.50      0.46       732\n",
            "weighted avg       0.72      0.85      0.78       732\n",
            "\n"
          ]
        },
        {
          "output_type": "stream",
          "name": "stderr",
          "text": [
            "/usr/local/lib/python3.7/dist-packages/sklearn/metrics/_classification.py:1318: UndefinedMetricWarning: Precision and F-score are ill-defined and being set to 0.0 in labels with no predicted samples. Use `zero_division` parameter to control this behavior.\n",
            "  _warn_prf(average, modifier, msg_start, len(result))\n",
            "/usr/local/lib/python3.7/dist-packages/sklearn/metrics/_classification.py:1318: UndefinedMetricWarning: Precision and F-score are ill-defined and being set to 0.0 in labels with no predicted samples. Use `zero_division` parameter to control this behavior.\n",
            "  _warn_prf(average, modifier, msg_start, len(result))\n",
            "/usr/local/lib/python3.7/dist-packages/sklearn/metrics/_classification.py:1318: UndefinedMetricWarning: Precision and F-score are ill-defined and being set to 0.0 in labels with no predicted samples. Use `zero_division` parameter to control this behavior.\n",
            "  _warn_prf(average, modifier, msg_start, len(result))\n"
          ]
        }
      ]
    },
    {
      "cell_type": "markdown",
      "source": [
        "# **Task 9:Accuracy**"
      ],
      "metadata": {
        "id": "0pb7jRIRXQdT"
      }
    },
    {
      "cell_type": "code",
      "source": [
        "model_ev = pd.DataFrame({'Model': ['Logistic Regression','Random Forest','K-Nearest Neighbour','Decision Tree','Support Vector Machine'], 'Accuracy': [log_acc_score*100,\n",
        "                   rfc_acc_score*100,k*100,d_acc_score*100,svc_acc_score*100]})\n",
        "model_ev"
      ],
      "metadata": {
        "id": "lw2FV_2pUJVh",
        "colab": {
          "base_uri": "https://localhost:8080/",
          "height": 206
        },
        "outputId": "5820f8fe-10b8-43d3-b5a5-19af8abfab93"
      },
      "execution_count": 295,
      "outputs": [
        {
          "output_type": "execute_result",
          "data": {
            "text/plain": [
              "                    Model   Accuracy\n",
              "0     Logistic Regression  84.836066\n",
              "1           Random Forest  84.562842\n",
              "2     K-Nearest Neighbour  85.792350\n",
              "3           Decision Tree  77.732240\n",
              "4  Support Vector Machine  84.699454"
            ],
            "text/html": [
              "\n",
              "  <div id=\"df-4b3af0e6-afdc-41b2-9a5e-3311af15f772\">\n",
              "    <div class=\"colab-df-container\">\n",
              "      <div>\n",
              "<style scoped>\n",
              "    .dataframe tbody tr th:only-of-type {\n",
              "        vertical-align: middle;\n",
              "    }\n",
              "\n",
              "    .dataframe tbody tr th {\n",
              "        vertical-align: top;\n",
              "    }\n",
              "\n",
              "    .dataframe thead th {\n",
              "        text-align: right;\n",
              "    }\n",
              "</style>\n",
              "<table border=\"1\" class=\"dataframe\">\n",
              "  <thead>\n",
              "    <tr style=\"text-align: right;\">\n",
              "      <th></th>\n",
              "      <th>Model</th>\n",
              "      <th>Accuracy</th>\n",
              "    </tr>\n",
              "  </thead>\n",
              "  <tbody>\n",
              "    <tr>\n",
              "      <th>0</th>\n",
              "      <td>Logistic Regression</td>\n",
              "      <td>84.836066</td>\n",
              "    </tr>\n",
              "    <tr>\n",
              "      <th>1</th>\n",
              "      <td>Random Forest</td>\n",
              "      <td>84.562842</td>\n",
              "    </tr>\n",
              "    <tr>\n",
              "      <th>2</th>\n",
              "      <td>K-Nearest Neighbour</td>\n",
              "      <td>85.792350</td>\n",
              "    </tr>\n",
              "    <tr>\n",
              "      <th>3</th>\n",
              "      <td>Decision Tree</td>\n",
              "      <td>77.732240</td>\n",
              "    </tr>\n",
              "    <tr>\n",
              "      <th>4</th>\n",
              "      <td>Support Vector Machine</td>\n",
              "      <td>84.699454</td>\n",
              "    </tr>\n",
              "  </tbody>\n",
              "</table>\n",
              "</div>\n",
              "      <button class=\"colab-df-convert\" onclick=\"convertToInteractive('df-4b3af0e6-afdc-41b2-9a5e-3311af15f772')\"\n",
              "              title=\"Convert this dataframe to an interactive table.\"\n",
              "              style=\"display:none;\">\n",
              "        \n",
              "  <svg xmlns=\"http://www.w3.org/2000/svg\" height=\"24px\"viewBox=\"0 0 24 24\"\n",
              "       width=\"24px\">\n",
              "    <path d=\"M0 0h24v24H0V0z\" fill=\"none\"/>\n",
              "    <path d=\"M18.56 5.44l.94 2.06.94-2.06 2.06-.94-2.06-.94-.94-2.06-.94 2.06-2.06.94zm-11 1L8.5 8.5l.94-2.06 2.06-.94-2.06-.94L8.5 2.5l-.94 2.06-2.06.94zm10 10l.94 2.06.94-2.06 2.06-.94-2.06-.94-.94-2.06-.94 2.06-2.06.94z\"/><path d=\"M17.41 7.96l-1.37-1.37c-.4-.4-.92-.59-1.43-.59-.52 0-1.04.2-1.43.59L10.3 9.45l-7.72 7.72c-.78.78-.78 2.05 0 2.83L4 21.41c.39.39.9.59 1.41.59.51 0 1.02-.2 1.41-.59l7.78-7.78 2.81-2.81c.8-.78.8-2.07 0-2.86zM5.41 20L4 18.59l7.72-7.72 1.47 1.35L5.41 20z\"/>\n",
              "  </svg>\n",
              "      </button>\n",
              "      \n",
              "  <style>\n",
              "    .colab-df-container {\n",
              "      display:flex;\n",
              "      flex-wrap:wrap;\n",
              "      gap: 12px;\n",
              "    }\n",
              "\n",
              "    .colab-df-convert {\n",
              "      background-color: #E8F0FE;\n",
              "      border: none;\n",
              "      border-radius: 50%;\n",
              "      cursor: pointer;\n",
              "      display: none;\n",
              "      fill: #1967D2;\n",
              "      height: 32px;\n",
              "      padding: 0 0 0 0;\n",
              "      width: 32px;\n",
              "    }\n",
              "\n",
              "    .colab-df-convert:hover {\n",
              "      background-color: #E2EBFA;\n",
              "      box-shadow: 0px 1px 2px rgba(60, 64, 67, 0.3), 0px 1px 3px 1px rgba(60, 64, 67, 0.15);\n",
              "      fill: #174EA6;\n",
              "    }\n",
              "\n",
              "    [theme=dark] .colab-df-convert {\n",
              "      background-color: #3B4455;\n",
              "      fill: #D2E3FC;\n",
              "    }\n",
              "\n",
              "    [theme=dark] .colab-df-convert:hover {\n",
              "      background-color: #434B5C;\n",
              "      box-shadow: 0px 1px 3px 1px rgba(0, 0, 0, 0.15);\n",
              "      filter: drop-shadow(0px 1px 2px rgba(0, 0, 0, 0.3));\n",
              "      fill: #FFFFFF;\n",
              "    }\n",
              "  </style>\n",
              "\n",
              "      <script>\n",
              "        const buttonEl =\n",
              "          document.querySelector('#df-4b3af0e6-afdc-41b2-9a5e-3311af15f772 button.colab-df-convert');\n",
              "        buttonEl.style.display =\n",
              "          google.colab.kernel.accessAllowed ? 'block' : 'none';\n",
              "\n",
              "        async function convertToInteractive(key) {\n",
              "          const element = document.querySelector('#df-4b3af0e6-afdc-41b2-9a5e-3311af15f772');\n",
              "          const dataTable =\n",
              "            await google.colab.kernel.invokeFunction('convertToInteractive',\n",
              "                                                     [key], {});\n",
              "          if (!dataTable) return;\n",
              "\n",
              "          const docLinkHtml = 'Like what you see? Visit the ' +\n",
              "            '<a target=\"_blank\" href=https://colab.research.google.com/notebooks/data_table.ipynb>data table notebook</a>'\n",
              "            + ' to learn more about interactive tables.';\n",
              "          element.innerHTML = '';\n",
              "          dataTable['output_type'] = 'display_data';\n",
              "          await google.colab.output.renderOutput(dataTable, element);\n",
              "          const docLink = document.createElement('div');\n",
              "          docLink.innerHTML = docLinkHtml;\n",
              "          element.appendChild(docLink);\n",
              "        }\n",
              "      </script>\n",
              "    </div>\n",
              "  </div>\n",
              "  "
            ]
          },
          "metadata": {},
          "execution_count": 295
        }
      ]
    },
    {
      "cell_type": "markdown",
      "source": [
        "# **Graph:**\n",
        "Graphical represntationof the above accuracy model"
      ],
      "metadata": {
        "id": "4LmGeCztXXDW"
      }
    },
    {
      "cell_type": "code",
      "source": [
        "colors = ['red','green','blue','gold','silver','yellow','orange',]\n",
        "plt.figure(figsize=(12,5))\n",
        "plt.title(\"barplot Represent Accuracy of different models\")\n",
        "plt.xlabel(\"Accuracy %\")\n",
        "plt.ylabel(\"Algorithms\")\n",
        "plt.bar(model_ev['Model'],model_ev['Accuracy'],color = colors)\n",
        "plt.show()"
      ],
      "metadata": {
        "id": "MBFK8SiFUJTB",
        "colab": {
          "base_uri": "https://localhost:8080/",
          "height": 350
        },
        "outputId": "64ed2774-d468-47da-b795-3d933c552f41"
      },
      "execution_count": 296,
      "outputs": [
        {
          "output_type": "display_data",
          "data": {
            "text/plain": [
              "<Figure size 864x360 with 1 Axes>"
            ],
            "image/png": "[encoded data removed]"
          },
          "metadata": {
            "needs_background": "light"
          }
        }
      ]
    },
    {
      "cell_type": "markdown",
      "source": [
        "#**Task 6:Third Train Test Split**\n"
      ],
      "metadata": {
        "id": "e8yzRhKnmJxr"
      }
    },
    {
      "cell_type": "code",
      "source": [
        "from sklearn.model_selection import train_test_split"
      ],
      "metadata": {
        "id": "OCcpzD5Bmrys"
      },
      "execution_count": 297,
      "outputs": []
    },
    {
      "cell_type": "code",
      "source": [
        "X=heart.drop('heart_attack', axis=1)\n",
        "\n",
        "y=heart['heart_attack'] "
      ],
      "metadata": {
        "id": "nevP9l3GmvYb"
      },
      "execution_count": 298,
      "outputs": []
    },
    {
      "cell_type": "markdown",
      "source": [
        "#### Test 3 (Saksham)\n",
        "The dataset will be splitted into 50:50 ratio (50% training and 50% testing).\n"
      ],
      "metadata": {
        "id": "4elSN0YFmvV-"
      }
    },
    {
      "cell_type": "code",
      "source": [
        "X_train,X_test,y_train,y_test = train_test_split(X,y,test_size = 0.50)"
      ],
      "metadata": {
        "id": "Qud3Q5WUnn3N"
      },
      "execution_count": 300,
      "outputs": []
    },
    {
      "cell_type": "markdown",
      "source": [
        "# Task 7:**Feature Scaling**"
      ],
      "metadata": {
        "id": "wPdf74GEnn08"
      }
    },
    {
      "cell_type": "code",
      "source": [
        "##scale\n",
        "from sklearn.preprocessing import StandardScaler\n",
        "scaler=StandardScaler()\n",
        "scaler.fit(X_train)"
      ],
      "metadata": {
        "id": "qHhaLSZ-nnyq",
        "colab": {
          "base_uri": "https://localhost:8080/"
        },
        "outputId": "d3d19099-1ddb-465b-c273-27adf169f298"
      },
      "execution_count": 301,
      "outputs": [
        {
          "output_type": "execute_result",
          "data": {
            "text/plain": [
              "StandardScaler()"
            ]
          },
          "metadata": {},
          "execution_count": 301
        }
      ]
    },
    {
      "cell_type": "code",
      "source": [
        "scaled_x_train=scaler.transform(X_train)"
      ],
      "metadata": {
        "id": "c7xG0Boknnwh"
      },
      "execution_count": 302,
      "outputs": []
    },
    {
      "cell_type": "code",
      "source": [
        "scaled_x_test=scaler.transform(X_test)"
      ],
      "metadata": {
        "id": "0YeVhi6-nnuL"
      },
      "execution_count": 303,
      "outputs": []
    },
    {
      "cell_type": "code",
      "source": [
        "### prediction\n",
        "from sklearn.metrics import classification_report,confusion_matrix"
      ],
      "metadata": {
        "id": "eHxMV81lnnr2"
      },
      "execution_count": 304,
      "outputs": []
    },
    {
      "cell_type": "code",
      "source": [
        "#accuracy\n",
        "from sklearn.metrics import accuracy_score"
      ],
      "metadata": {
        "id": "ELbeVXq3nnpV"
      },
      "execution_count": 305,
      "outputs": []
    },
    {
      "cell_type": "markdown",
      "source": [
        "#Task 8:ML Model"
      ],
      "metadata": {
        "id": "E2sTvNSuMLeB"
      }
    },
    {
      "cell_type": "markdown",
      "source": [
        "# **KNN Model**"
      ],
      "metadata": {
        "id": "WthqbhL7n2-P"
      }
    },
    {
      "cell_type": "code",
      "source": [
        "from sklearn.neighbors import KNeighborsClassifier\n",
        "knn=KNeighborsClassifier(n_neighbors=1)\n",
        "knn.fit(X_train,y_train)"
      ],
      "metadata": {
        "id": "-hwHoc3sn27-",
        "colab": {
          "base_uri": "https://localhost:8080/"
        },
        "outputId": "c211545d-30ca-4687-f644-e71c2d84a7a8"
      },
      "execution_count": 306,
      "outputs": [
        {
          "output_type": "execute_result",
          "data": {
            "text/plain": [
              "KNeighborsClassifier(n_neighbors=1)"
            ]
          },
          "metadata": {},
          "execution_count": 306
        }
      ]
    },
    {
      "cell_type": "code",
      "source": [
        "pred = knn.predict(X_test)\n",
        "k= accuracy_score(y_test,pred)\n",
        "print('With k = 1')\n",
        "print(\"\\n\")\n",
        "print(\"confussion matrix\")\n",
        "print(confusion_matrix(y_test,pred))\n",
        "print(\"\\n\")\n",
        "print(\"Accuracy of K-NeighborsClassifier:\",k*100,'\\n')\n",
        "print(classification_report(y_test,pred))"
      ],
      "metadata": {
        "id": "a8C0wvOyn25U",
        "colab": {
          "base_uri": "https://localhost:8080/"
        },
        "outputId": "1646fa60-cd9e-46e2-d870-56fcd0a63d6d"
      },
      "execution_count": 307,
      "outputs": [
        {
          "output_type": "stream",
          "name": "stdout",
          "text": [
            "With k = 1\n",
            "\n",
            "\n",
            "confussion matrix\n",
            "[[1345  206]\n",
            " [ 217   60]]\n",
            "\n",
            "\n",
            "Accuracy of K-NeighborsClassifier: 76.85995623632385 \n",
            "\n",
            "              precision    recall  f1-score   support\n",
            "\n",
            "           0       0.86      0.87      0.86      1551\n",
            "           1       0.23      0.22      0.22       277\n",
            "\n",
            "    accuracy                           0.77      1828\n",
            "   macro avg       0.54      0.54      0.54      1828\n",
            "weighted avg       0.76      0.77      0.77      1828\n",
            "\n"
          ]
        }
      ]
    },
    {
      "cell_type": "code",
      "source": [
        "error_rate=[]\n",
        "\n",
        "for i in range(1,30):\n",
        "\n",
        "  knn=KNeighborsClassifier(n_neighbors=i)\n",
        "  knn.fit(X_train,y_train)\n",
        "  pred_i=knn.predict(X_test)\n",
        "  error_rate.append (np.mean(pred_i != y_test))"
      ],
      "metadata": {
        "id": "B00CKlepouU1"
      },
      "execution_count": 308,
      "outputs": []
    },
    {
      "cell_type": "code",
      "source": [
        "plt.figure(figsize=(12,6))\n",
        "plt.plot(range(1,30), error_rate, color='blue', linestyle='dashed', marker='o', markerfacecolor='red', markersize=10)\n",
        "plt.title('Error Rate vs K Value')\n",
        "plt.xlabel('K')\n",
        "plt.ylabel('Error Rate')"
      ],
      "metadata": {
        "id": "VwiVHDr7ouSi",
        "colab": {
          "base_uri": "https://localhost:8080/",
          "height": 421
        },
        "outputId": "bb337e9a-ceb9-45f3-bc5a-584d7a27f044"
      },
      "execution_count": 309,
      "outputs": [
        {
          "output_type": "execute_result",
          "data": {
            "text/plain": [
              "Text(0, 0.5, 'Error Rate')"
            ]
          },
          "metadata": {},
          "execution_count": 309
        },
        {
          "output_type": "display_data",
          "data": {
            "text/plain": [
              "<Figure size 864x432 with 1 Axes>"
            ],
            "image/png": "[encoded data removed]"
          },
          "metadata": {
            "needs_background": "light"
          }
        }
      ]
    },
    {
      "cell_type": "code",
      "source": [
        "print(\"Minimum error:-\",min(error_rate),\"at K =\",error_rate.index(min(error_rate))+1)"
      ],
      "metadata": {
        "id": "bmhU6Fb7ouQS",
        "colab": {
          "base_uri": "https://localhost:8080/"
        },
        "outputId": "7ca120e7-6c31-4501-9801-b50310c3126f"
      },
      "execution_count": 310,
      "outputs": [
        {
          "output_type": "stream",
          "name": "stdout",
          "text": [
            "Minimum error:- 0.15098468271334792 at K = 12\n"
          ]
        }
      ]
    },
    {
      "cell_type": "code",
      "source": [
        "knn = KNeighborsClassifier(n_neighbors=12)\n",
        "knn.fit(X_train, y_train)\n",
        "pred = knn.predict(X_test)\n",
        "k= accuracy_score(y_test,pred)\n",
        "print('With k = 12')\n",
        "print(\"\\n\")\n",
        "print(\"confussion matrix\")\n",
        "print(confusion_matrix(y_test,pred))\n",
        "print(\"\\n\")\n",
        "print(\"Accuracy of K-NeighborsClassifier:\",k*100,'\\n')\n",
        "print(classification_report(y_test,pred))"
      ],
      "metadata": {
        "id": "yJV8ha4kouOK",
        "colab": {
          "base_uri": "https://localhost:8080/"
        },
        "outputId": "660e7e70-757a-4ff6-ed96-cc4a184f10a6"
      },
      "execution_count": 312,
      "outputs": [
        {
          "output_type": "stream",
          "name": "stdout",
          "text": [
            "With k = 12\n",
            "\n",
            "\n",
            "confussion matrix\n",
            "[[1550    1]\n",
            " [ 275    2]]\n",
            "\n",
            "\n",
            "Accuracy of K-NeighborsClassifier: 84.9015317286652 \n",
            "\n",
            "              precision    recall  f1-score   support\n",
            "\n",
            "           0       0.85      1.00      0.92      1551\n",
            "           1       0.67      0.01      0.01       277\n",
            "\n",
            "    accuracy                           0.85      1828\n",
            "   macro avg       0.76      0.50      0.47      1828\n",
            "weighted avg       0.82      0.85      0.78      1828\n",
            "\n"
          ]
        }
      ]
    },
    {
      "cell_type": "markdown",
      "source": [
        "# **Desicion Tree Model**"
      ],
      "metadata": {
        "id": "xCjre2L8ouL-"
      }
    },
    {
      "cell_type": "code",
      "source": [
        "from sklearn.tree import DecisionTreeClassifier"
      ],
      "metadata": {
        "id": "P4egfen8ouJl"
      },
      "execution_count": 313,
      "outputs": []
    },
    {
      "cell_type": "code",
      "source": [
        "dtree=DecisionTreeClassifier()\n",
        "dtree.fit(X_train,y_train)"
      ],
      "metadata": {
        "id": "tSHwejrCouHg",
        "colab": {
          "base_uri": "https://localhost:8080/"
        },
        "outputId": "f914591c-7a6b-4021-b990-b1a75681a5b2"
      },
      "execution_count": 314,
      "outputs": [
        {
          "output_type": "execute_result",
          "data": {
            "text/plain": [
              "DecisionTreeClassifier()"
            ]
          },
          "metadata": {},
          "execution_count": 314
        }
      ]
    },
    {
      "cell_type": "code",
      "source": [
        "d_pred=dtree.predict(X_test)"
      ],
      "metadata": {
        "id": "oxSUcsiZouFK"
      },
      "execution_count": 315,
      "outputs": []
    },
    {
      "cell_type": "code",
      "source": [
        "d_acc_score=accuracy_score(y_test,d_pred)"
      ],
      "metadata": {
        "id": "KAnDIW_HouC6"
      },
      "execution_count": 316,
      "outputs": []
    },
    {
      "cell_type": "code",
      "source": [
        "print(confusion_matrix(y_test,d_pred))"
      ],
      "metadata": {
        "id": "2-5pwzxCouAY",
        "colab": {
          "base_uri": "https://localhost:8080/"
        },
        "outputId": "ac6a843e-0056-4ffd-b996-2a95885fa6e3"
      },
      "execution_count": 317,
      "outputs": [
        {
          "output_type": "stream",
          "name": "stdout",
          "text": [
            "[[1301  250]\n",
            " [ 204   73]]\n"
          ]
        }
      ]
    },
    {
      "cell_type": "code",
      "source": [
        "print(classification_report(y_test,d_pred))"
      ],
      "metadata": {
        "id": "Lc5krkQepSu6",
        "colab": {
          "base_uri": "https://localhost:8080/"
        },
        "outputId": "9c7a736f-3912-4a2d-bd26-e212f22720e1"
      },
      "execution_count": 318,
      "outputs": [
        {
          "output_type": "stream",
          "name": "stdout",
          "text": [
            "              precision    recall  f1-score   support\n",
            "\n",
            "           0       0.86      0.84      0.85      1551\n",
            "           1       0.23      0.26      0.24       277\n",
            "\n",
            "    accuracy                           0.75      1828\n",
            "   macro avg       0.55      0.55      0.55      1828\n",
            "weighted avg       0.77      0.75      0.76      1828\n",
            "\n"
          ]
        }
      ]
    },
    {
      "cell_type": "markdown",
      "source": [
        "# **Random Forest Model:**"
      ],
      "metadata": {
        "id": "dElRxsTipSlr"
      }
    },
    {
      "cell_type": "code",
      "source": [
        "from sklearn.ensemble import RandomForestClassifier\n",
        "rfc=RandomForestClassifier(n_estimators=100)\n",
        "rfc.fit(X_train,y_train)"
      ],
      "metadata": {
        "id": "c4V50HXCpSjC",
        "colab": {
          "base_uri": "https://localhost:8080/"
        },
        "outputId": "2ffc8c4b-db0f-4b2f-c539-8ff4e4582bab"
      },
      "execution_count": 319,
      "outputs": [
        {
          "output_type": "execute_result",
          "data": {
            "text/plain": [
              "RandomForestClassifier()"
            ]
          },
          "metadata": {},
          "execution_count": 319
        }
      ]
    },
    {
      "cell_type": "code",
      "source": [
        "rfc_pred=rfc.predict(X_test)"
      ],
      "metadata": {
        "id": "yvPYEkYfpx0c"
      },
      "execution_count": 320,
      "outputs": []
    },
    {
      "cell_type": "code",
      "source": [
        "rfc_acc_score=accuracy_score(y_test,rfc_pred)"
      ],
      "metadata": {
        "id": "Q-trrYp-pxyT"
      },
      "execution_count": 321,
      "outputs": []
    },
    {
      "cell_type": "code",
      "source": [
        "print(confusion_matrix(y_test,rfc_pred))"
      ],
      "metadata": {
        "id": "nPVhxNLDpxwM",
        "colab": {
          "base_uri": "https://localhost:8080/"
        },
        "outputId": "906e0caa-bd09-4ec7-dfc9-cbb594fa4a01"
      },
      "execution_count": 322,
      "outputs": [
        {
          "output_type": "stream",
          "name": "stdout",
          "text": [
            "[[1543    8]\n",
            " [ 270    7]]\n"
          ]
        }
      ]
    },
    {
      "cell_type": "code",
      "source": [
        "print(classification_report(y_test,rfc_pred))"
      ],
      "metadata": {
        "id": "jMsPDRutpxto",
        "colab": {
          "base_uri": "https://localhost:8080/"
        },
        "outputId": "483d8c1b-4e2e-4362-dc3f-9b11399b8e1d"
      },
      "execution_count": 323,
      "outputs": [
        {
          "output_type": "stream",
          "name": "stdout",
          "text": [
            "              precision    recall  f1-score   support\n",
            "\n",
            "           0       0.85      0.99      0.92      1551\n",
            "           1       0.47      0.03      0.05       277\n",
            "\n",
            "    accuracy                           0.85      1828\n",
            "   macro avg       0.66      0.51      0.48      1828\n",
            "weighted avg       0.79      0.85      0.79      1828\n",
            "\n"
          ]
        }
      ]
    },
    {
      "cell_type": "markdown",
      "source": [
        "# **Logistic Model**"
      ],
      "metadata": {
        "id": "r99bx-TupxpH"
      }
    },
    {
      "cell_type": "code",
      "source": [
        "from sklearn.linear_model import LogisticRegression"
      ],
      "metadata": {
        "id": "SIoIk_q7qNvB"
      },
      "execution_count": 330,
      "outputs": []
    },
    {
      "cell_type": "code",
      "source": [
        "logmodel = LogisticRegression()\n",
        "logmodel.fit(X_train, y_train)"
      ],
      "metadata": {
        "id": "yNSBrsGpqNtN",
        "colab": {
          "base_uri": "https://localhost:8080/"
        },
        "outputId": "6dad42e8-186c-4e52-9dcb-ac5f7d4ae5fe"
      },
      "execution_count": 331,
      "outputs": [
        {
          "output_type": "stream",
          "name": "stderr",
          "text": [
            "/usr/local/lib/python3.7/dist-packages/sklearn/linear_model/_logistic.py:818: ConvergenceWarning: lbfgs failed to converge (status=1):\n",
            "STOP: TOTAL NO. of ITERATIONS REACHED LIMIT.\n",
            "\n",
            "Increase the number of iterations (max_iter) or scale the data as shown in:\n",
            "    https://scikit-learn.org/stable/modules/preprocessing.html\n",
            "Please also refer to the documentation for alternative solver options:\n",
            "    https://scikit-learn.org/stable/modules/linear_model.html#logistic-regression\n",
            "  extra_warning_msg=_LOGISTIC_SOLVER_CONVERGENCE_MSG,\n"
          ]
        },
        {
          "output_type": "execute_result",
          "data": {
            "text/plain": [
              "LogisticRegression()"
            ]
          },
          "metadata": {},
          "execution_count": 331
        }
      ]
    },
    {
      "cell_type": "code",
      "source": [
        "y_pred = logmodel.predict(X_test)"
      ],
      "metadata": {
        "id": "YE01QJV8qNq4"
      },
      "execution_count": 332,
      "outputs": []
    },
    {
      "cell_type": "code",
      "source": [
        "log_acc_score=accuracy_score(y_test,y_pred)"
      ],
      "metadata": {
        "id": "jS7lCscbqNou"
      },
      "execution_count": 333,
      "outputs": []
    },
    {
      "cell_type": "code",
      "source": [
        "print(confusion_matrix(y_test,y_pred))"
      ],
      "metadata": {
        "id": "fEXiP4wPqNml",
        "colab": {
          "base_uri": "https://localhost:8080/"
        },
        "outputId": "94156481-290d-445f-a31d-d7d6fba2cf50"
      },
      "execution_count": 334,
      "outputs": [
        {
          "output_type": "stream",
          "name": "stdout",
          "text": [
            "[[1543    8]\n",
            " [ 271    6]]\n"
          ]
        }
      ]
    },
    {
      "cell_type": "code",
      "source": [
        "print(classification_report(y_test, y_pred))"
      ],
      "metadata": {
        "id": "WoplCosiqNkZ",
        "colab": {
          "base_uri": "https://localhost:8080/"
        },
        "outputId": "04660735-5a41-440c-b40f-c668accc1da8"
      },
      "execution_count": 335,
      "outputs": [
        {
          "output_type": "stream",
          "name": "stdout",
          "text": [
            "              precision    recall  f1-score   support\n",
            "\n",
            "           0       0.85      0.99      0.92      1551\n",
            "           1       0.43      0.02      0.04       277\n",
            "\n",
            "    accuracy                           0.85      1828\n",
            "   macro avg       0.64      0.51      0.48      1828\n",
            "weighted avg       0.79      0.85      0.78      1828\n",
            "\n"
          ]
        }
      ]
    },
    {
      "cell_type": "markdown",
      "source": [
        "# **Support Vector Classifier:**"
      ],
      "metadata": {
        "id": "IwJ9y5QAqNgG"
      }
    },
    {
      "cell_type": "code",
      "source": [
        "from sklearn.svm import SVC"
      ],
      "metadata": {
        "id": "iekygrcaqNd1"
      },
      "execution_count": null,
      "outputs": []
    },
    {
      "cell_type": "code",
      "source": [
        "svc=SVC()\n",
        "svc.fit(X_train, y_train)\n",
        "svc_predicted = svc.predict(X_test)\n",
        "svc_conf_matrix = confusion_matrix(y_test, svc_predicted)\n",
        "svc_acc_score = accuracy_score(y_test, svc_predicted)\n",
        "print(\"confussion matrix\")\n",
        "print(svc_conf_matrix)\n",
        "print(\"\\n\")\n",
        "print(\"Accuracy of Support Vector Classifier:\",svc_acc_score*100,'\\n')\n",
        "print(classification_report(y_test,svc_predicted))"
      ],
      "metadata": {
        "id": "AowhrAYpqnNk"
      },
      "execution_count": null,
      "outputs": []
    },
    {
      "cell_type": "markdown",
      "source": [
        "#Task 9: **Accuracy**"
      ],
      "metadata": {
        "id": "b65xiWUWqnG-"
      }
    },
    {
      "cell_type": "code",
      "source": [
        "model_ev = pd.DataFrame({'Model': ['Logistic Regression','Random Forest','K-Nearest Neighbour','Decision Tree','Support Vector Machine'], 'Accuracy': [log_acc_score*100,\n",
        "                   rfc_acc_score*100,k*100,d_acc_score*100,svc_acc_score*100]})\n",
        "model_ev"
      ],
      "metadata": {
        "id": "M9gLtgAPqnEl",
        "colab": {
          "base_uri": "https://localhost:8080/",
          "height": 206
        },
        "outputId": "dfbe6317-58b5-4311-b6ad-9da341253d5f"
      },
      "execution_count": 336,
      "outputs": [
        {
          "output_type": "execute_result",
          "data": {
            "text/plain": [
              "                    Model   Accuracy\n",
              "0     Logistic Regression  84.737418\n",
              "1           Random Forest  84.792123\n",
              "2     K-Nearest Neighbour  84.901532\n",
              "3           Decision Tree  75.164114\n",
              "4  Support Vector Machine  84.699454"
            ],
            "text/html": [
              "\n",
              "  <div id=\"df-68dd9815-c5e5-4c93-a88f-47a0cb4742d3\">\n",
              "    <div class=\"colab-df-container\">\n",
              "      <div>\n",
              "<style scoped>\n",
              "    .dataframe tbody tr th:only-of-type {\n",
              "        vertical-align: middle;\n",
              "    }\n",
              "\n",
              "    .dataframe tbody tr th {\n",
              "        vertical-align: top;\n",
              "    }\n",
              "\n",
              "    .dataframe thead th {\n",
              "        text-align: right;\n",
              "    }\n",
              "</style>\n",
              "<table border=\"1\" class=\"dataframe\">\n",
              "  <thead>\n",
              "    <tr style=\"text-align: right;\">\n",
              "      <th></th>\n",
              "      <th>Model</th>\n",
              "      <th>Accuracy</th>\n",
              "    </tr>\n",
              "  </thead>\n",
              "  <tbody>\n",
              "    <tr>\n",
              "      <th>0</th>\n",
              "      <td>Logistic Regression</td>\n",
              "      <td>84.737418</td>\n",
              "    </tr>\n",
              "    <tr>\n",
              "      <th>1</th>\n",
              "      <td>Random Forest</td>\n",
              "      <td>84.792123</td>\n",
              "    </tr>\n",
              "    <tr>\n",
              "      <th>2</th>\n",
              "      <td>K-Nearest Neighbour</td>\n",
              "      <td>84.901532</td>\n",
              "    </tr>\n",
              "    <tr>\n",
              "      <th>3</th>\n",
              "      <td>Decision Tree</td>\n",
              "      <td>75.164114</td>\n",
              "    </tr>\n",
              "    <tr>\n",
              "      <th>4</th>\n",
              "      <td>Support Vector Machine</td>\n",
              "      <td>84.699454</td>\n",
              "    </tr>\n",
              "  </tbody>\n",
              "</table>\n",
              "</div>\n",
              "      <button class=\"colab-df-convert\" onclick=\"convertToInteractive('df-68dd9815-c5e5-4c93-a88f-47a0cb4742d3')\"\n",
              "              title=\"Convert this dataframe to an interactive table.\"\n",
              "              style=\"display:none;\">\n",
              "        \n",
              "  <svg xmlns=\"http://www.w3.org/2000/svg\" height=\"24px\"viewBox=\"0 0 24 24\"\n",
              "       width=\"24px\">\n",
              "    <path d=\"M0 0h24v24H0V0z\" fill=\"none\"/>\n",
              "    <path d=\"M18.56 5.44l.94 2.06.94-2.06 2.06-.94-2.06-.94-.94-2.06-.94 2.06-2.06.94zm-11 1L8.5 8.5l.94-2.06 2.06-.94-2.06-.94L8.5 2.5l-.94 2.06-2.06.94zm10 10l.94 2.06.94-2.06 2.06-.94-2.06-.94-.94-2.06-.94 2.06-2.06.94z\"/><path d=\"M17.41 7.96l-1.37-1.37c-.4-.4-.92-.59-1.43-.59-.52 0-1.04.2-1.43.59L10.3 9.45l-7.72 7.72c-.78.78-.78 2.05 0 2.83L4 21.41c.39.39.9.59 1.41.59.51 0 1.02-.2 1.41-.59l7.78-7.78 2.81-2.81c.8-.78.8-2.07 0-2.86zM5.41 20L4 18.59l7.72-7.72 1.47 1.35L5.41 20z\"/>\n",
              "  </svg>\n",
              "      </button>\n",
              "      \n",
              "  <style>\n",
              "    .colab-df-container {\n",
              "      display:flex;\n",
              "      flex-wrap:wrap;\n",
              "      gap: 12px;\n",
              "    }\n",
              "\n",
              "    .colab-df-convert {\n",
              "      background-color: #E8F0FE;\n",
              "      border: none;\n",
              "      border-radius: 50%;\n",
              "      cursor: pointer;\n",
              "      display: none;\n",
              "      fill: #1967D2;\n",
              "      height: 32px;\n",
              "      padding: 0 0 0 0;\n",
              "      width: 32px;\n",
              "    }\n",
              "\n",
              "    .colab-df-convert:hover {\n",
              "      background-color: #E2EBFA;\n",
              "      box-shadow: 0px 1px 2px rgba(60, 64, 67, 0.3), 0px 1px 3px 1px rgba(60, 64, 67, 0.15);\n",
              "      fill: #174EA6;\n",
              "    }\n",
              "\n",
              "    [theme=dark] .colab-df-convert {\n",
              "      background-color: #3B4455;\n",
              "      fill: #D2E3FC;\n",
              "    }\n",
              "\n",
              "    [theme=dark] .colab-df-convert:hover {\n",
              "      background-color: #434B5C;\n",
              "      box-shadow: 0px 1px 3px 1px rgba(0, 0, 0, 0.15);\n",
              "      filter: drop-shadow(0px 1px 2px rgba(0, 0, 0, 0.3));\n",
              "      fill: #FFFFFF;\n",
              "    }\n",
              "  </style>\n",
              "\n",
              "      <script>\n",
              "        const buttonEl =\n",
              "          document.querySelector('#df-68dd9815-c5e5-4c93-a88f-47a0cb4742d3 button.colab-df-convert');\n",
              "        buttonEl.style.display =\n",
              "          google.colab.kernel.accessAllowed ? 'block' : 'none';\n",
              "\n",
              "        async function convertToInteractive(key) {\n",
              "          const element = document.querySelector('#df-68dd9815-c5e5-4c93-a88f-47a0cb4742d3');\n",
              "          const dataTable =\n",
              "            await google.colab.kernel.invokeFunction('convertToInteractive',\n",
              "                                                     [key], {});\n",
              "          if (!dataTable) return;\n",
              "\n",
              "          const docLinkHtml = 'Like what you see? Visit the ' +\n",
              "            '<a target=\"_blank\" href=https://colab.research.google.com/notebooks/data_table.ipynb>data table notebook</a>'\n",
              "            + ' to learn more about interactive tables.';\n",
              "          element.innerHTML = '';\n",
              "          dataTable['output_type'] = 'display_data';\n",
              "          await google.colab.output.renderOutput(dataTable, element);\n",
              "          const docLink = document.createElement('div');\n",
              "          docLink.innerHTML = docLinkHtml;\n",
              "          element.appendChild(docLink);\n",
              "        }\n",
              "      </script>\n",
              "    </div>\n",
              "  </div>\n",
              "  "
            ]
          },
          "metadata": {},
          "execution_count": 336
        }
      ]
    },
    {
      "cell_type": "markdown",
      "source": [
        "# **Graph:**\n",
        "Graphical represntationof the above accuracy model"
      ],
      "metadata": {
        "id": "Lp_RKSc5q3L7"
      }
    },
    {
      "cell_type": "code",
      "source": [
        "colors = ['red','green','blue','gold','silver','yellow','orange',]\n",
        "plt.figure(figsize=(12,5))\n",
        "plt.title(\"barplot Represent Accuracy of different models\")\n",
        "plt.xlabel(\"Accuracy %\")\n",
        "plt.ylabel(\"Algorithms\")\n",
        "plt.bar(model_ev['Model'],model_ev['Accuracy'],color = colors)\n",
        "plt.show()"
      ],
      "metadata": {
        "id": "OAMBlcfhq3Iq",
        "colab": {
          "base_uri": "https://localhost:8080/",
          "height": 350
        },
        "outputId": "30003222-1270-4431-ce18-be6e4d24b3a0"
      },
      "execution_count": 337,
      "outputs": [
        {
          "output_type": "display_data",
          "data": {
            "text/plain": [
              "<Figure size 864x360 with 1 Axes>"
            ],
            "image/png": "[encoded data removed]"
          },
          "metadata": {
            "needs_background": "light"
          }
        }
      ]
    },
    {
      "cell_type": "markdown",
      "source": [
        "#Task 10:making predictions "
      ],
      "metadata": {
        "id": "v07h3BhJCJtB"
      }
    },
    {
      "cell_type": "code",
      "source": [
        ""
      ],
      "metadata": {
        "id": "mEY3w5Iaex0U"
      },
      "execution_count": null,
      "outputs": []
    },
    {
      "cell_type": "code",
      "source": [
        "#visualization of training test"
      ],
      "metadata": {
        "id": "qDNTy5mP_mip"
      },
      "execution_count": null,
      "outputs": []
    },
    {
      "cell_type": "code",
      "source": [
        "from matplotlib.colors import ListedColormap\n",
        "X_set, y_set = X_train, y_train\n",
        "X1, X2 = np.meshgrid(np.arange(start = X_set.iloc[:, 0].min() - 1, stop = X_set.iloc[:, 0].max() + 1, step = 0.01),\n",
        "                     np.arange(start = X_set.iloc[:, 1].min() - 1, stop = X_set.iloc[:, 1].max() + 1, step = 0.01))\n",
        "plt.contourf(X1, X2, classifier.predict(np.array([X1.ravel(), X2.ravel()]).T).reshape(X1.shape),\n",
        "             alpha = 0.75, cmap = ListedColormap(('red', 'green')))\n",
        "plt.xlim(X1.min(), X1.max())\n",
        "plt.ylim(X2.min(), X2.max())\n",
        "for i, j in enumerate(np.unique(y_set)):\n",
        "    plt.scatter(X_set[y_set == j, 0], X_set[y_set == j, 1],\n",
        "                c = ListedColormap(('red', 'green'))(i), label = j)\n",
        "plt.title('(Training set)')\n",
        "plt.xlabel('')\n",
        "plt.ylabel('')\n",
        "plt.legend()\n",
        "plt.show()"
      ],
      "metadata": {
        "id": "1je-a66Vd9no"
      },
      "execution_count": null,
      "outputs": []
    },
    {
      "cell_type": "code",
      "source": [
        "#visualization of test set "
      ],
      "metadata": {
        "id": "1MZK15OHd8n_"
      },
      "execution_count": null,
      "outputs": []
    },
    {
      "cell_type": "code",
      "source": [
        "from matplotlib.colors import ListedColormap\n",
        "X_set, y_set = X_test, y_test\n",
        "X1, X2 = np.meshgrid(np.arange(start = X_set.iloc[:, 0].min() - 1, stop = X_set.iloc[:, 0].max() + 1, step = 0.01),\n",
        "                     np.arange(start = X_set.iloc[:, 1].min() - 1, stop = X_set.iloc[:, 1].max() + 1, step = 0.01))\n",
        "plt.contourf(X1, X2, classifier.predict(np.array([X1.ravel(), X2.ravel()]).T).reshape(X1.shape),\n",
        "             alpha = 0.75, cmap = ListedColormap(('red', 'green')))\n",
        "plt.xlim(X1.min(), X1.max())\n",
        "plt.ylim(X2.min(), X2.max())\n",
        "for i, j in enumerate(np.unique(y_set)):\n",
        "    plt.scatter(X_set[y_set == j, 0], X_set[y_set == j, 1],\n",
        "                c = ListedColormap(('red', 'green'))(i), label = j)\n",
        "plt.title('Logistic Regression (Test set)')\n",
        "plt.xlabel('Age')\n",
        "plt.ylabel('Estimated Salary')\n",
        "plt.legend()\n",
        "plt.show()"
      ],
      "metadata": {
        "id": "B7aLTyNTd8bg"
      },
      "execution_count": null,
      "outputs": []
    },
    {
      "cell_type": "markdown",
      "source": [
        "# *Conlusions:*"
      ],
      "metadata": {
        "id": "GoSX3gydJqOy"
      }
    },
    {
      "cell_type": "code",
      "source": [
        "#we collaborated on the project to analysize the causes of heart attack .we used various ML algorithm mostly supervised learning models like knn model,logistic model,random forest model,decision tree model and svc moel.\n",
        "#we have 3 data split per ML algorithm to observe any increase or decrease in the accuracy of the model.\n",
        "#for the first data split of test size 0.3  we notice that ,there is almost an accuracy of 85% for all the model except decision tree which was about 75%\n",
        "#for the second data split of test size 0.2  and for the third data split of test size 0.5  it has a similar outcome as the first test split.\n",
        "#for all three data splits performed over 5 different ML model the highest accuracy was obtained by SVC model wherelse decision tree model gave the lowest accuracy ."
      ],
      "metadata": {
        "id": "O7333z3dJx74"
      },
      "execution_count": 338,
      "outputs": []
    },
    {
      "cell_type": "markdown",
      "source": [
        "#Team Members:\n",
        "Tajrin kashem- contributed in second split test,data visualization fig 6-fig 7\n",
        "\n",
        "Hazel Ortega-contributed in first split test,data visualization fig 1-fig 5\n",
        "\n",
        "Saksham Sharma-contributed in third split test"
      ],
      "metadata": {
        "id": "DzsDVAeV_-vu"
      }
    },
    {
      "cell_type": "markdown",
      "source": [
        "#reference\n",
        " https://www.kaggle.com/code/nareshbhat/eda-classification-ensemble-92-accuracy/data"
      ],
      "metadata": {
        "id": "3vcW1CnRzzEL"
      }
    }
  ]
}