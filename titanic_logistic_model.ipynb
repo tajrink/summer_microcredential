{
  "nbformat": 4,
  "nbformat_minor": 0,
  "metadata": {
    "colab": {
      "name": "titanic logistic model.ipynb",
      "provenance": [],
      "authorship_tag": "ABX9TyO8BRyva4IC8a21psh2eZG1",
      "include_colab_link": true
    },
    "kernelspec": {
      "name": "python3",
      "display_name": "Python 3"
    },
    "language_info": {
      "name": "python"
    }
  },
  "cells": [
    {
      "cell_type": "markdown",
      "metadata": {
        "id": "view-in-github",
        "colab_type": "text"
      },
      "source": [
        "<a href=\"https://colab.research.google.com/github/tajrink/summer_microcredential/blob/main/titanic_logistic_model.ipynb\" target=\"_parent\"><img src=\"https://colab.research.google.com/assets/colab-badge.svg\" alt=\"Open In Colab\"/></a>"
      ]
    },
    {
      "cell_type": "code",
      "execution_count": null,
      "metadata": {
        "id": "9SXZ1f61G8vv"
      },
      "outputs": [],
      "source": [
        "#task1\n",
        "#the aim for this analysis to project the classification of survived vs.not survived in the titanic"
      ]
    },
    {
      "cell_type": "code",
      "source": [
        "#task 2"
      ],
      "metadata": {
        "id": "MEk3eKKiHStX"
      },
      "execution_count": null,
      "outputs": []
    },
    {
      "cell_type": "code",
      "source": [
        "import pandas as pd\n",
        "import numpy as np\n",
        "import matplotlib.pyplot as plt\n",
        "import seaborn as sns\n",
        "sns.set()\n",
        "\n",
        "import plotly\n",
        "import cufflinks as cf\n",
        "\n",
        "cf.go_offline()\n"
      ],
      "metadata": {
        "id": "bM7bmnL6HSpo"
      },
      "execution_count": null,
      "outputs": []
    },
    {
      "cell_type": "code",
      "source": [
        "#task3"
      ],
      "metadata": {
        "id": "7_sdNrgCHSmB"
      },
      "execution_count": null,
      "outputs": []
    },
    {
      "cell_type": "code",
      "source": [
        "train=pd.read_csv('')"
      ],
      "metadata": {
        "id": "dNGbOw56Hprx"
      },
      "execution_count": null,
      "outputs": []
    },
    {
      "cell_type": "code",
      "source": [
        "#task4\n"
      ],
      "metadata": {
        "id": "QotcuDPmHSiA"
      },
      "execution_count": null,
      "outputs": []
    },
    {
      "cell_type": "code",
      "source": [
        "train.head()\n",
        "train.info()\n",
        "train.describe()\n",
        "train.isnull()\n",
        "train.isnull().value_counts()\n",
        "\n",
        "sns.heatmap(train.isnull(),yticklables=False,cbar=False,cmap='viridis')\n",
        "\n",
        "# as we can see roughly 20% of the age is data is missing.therfore, the proportion"
      ],
      "metadata": {
        "id": "I-cDA9qLHqD_"
      },
      "execution_count": null,
      "outputs": []
    },
    {
      "cell_type": "code",
      "source": [
        "#task5"
      ],
      "metadata": {
        "id": "o2gCkj2_HSeR"
      },
      "execution_count": null,
      "outputs": []
    },
    {
      "cell_type": "code",
      "source": [
        "sns.set_style('whitegrid')\n",
        "sns.counplot(x='survived',data=train,palette=\"RdBu_r\")\n",
        "\n",
        "sns.counplot(x='survived',hue='pclass',data=train,palette=\"RdBu_r\")\n",
        "\n",
        "sns.displot(train['Age'].dropna(),kde=False,color='darkred',bins=60)\n",
        "\n",
        "train[\"Fare\"].hist(colors='blue',bins=60)\n",
        "\n",
        "plt.figure(figsize=(12,7))\n",
        "sns.boxplot(x='pclass',y='age',data=train,palette='winter')\n",
        "\n"
      ],
      "metadata": {
        "id": "LjDChNftHqhs"
      },
      "execution_count": null,
      "outputs": []
    },
    {
      "cell_type": "code",
      "source": [
        "#task6"
      ],
      "metadata": {
        "id": "8Hy7q-tqHSas"
      },
      "execution_count": null,
      "outputs": []
    },
    {
      "cell_type": "code",
      "source": [
        ""
      ],
      "metadata": {
        "id": "t_yVX94XHrPk"
      },
      "execution_count": null,
      "outputs": []
    },
    {
      "cell_type": "code",
      "source": [
        "#task7"
      ],
      "metadata": {
        "id": "VCULRR_fHSW3"
      },
      "execution_count": null,
      "outputs": []
    },
    {
      "cell_type": "code",
      "source": [
        ""
      ],
      "metadata": {
        "id": "KrsaD6sSHr_X"
      },
      "execution_count": null,
      "outputs": []
    },
    {
      "cell_type": "code",
      "source": [
        "#task 8"
      ],
      "metadata": {
        "id": "QLyA6E5XHSTf"
      },
      "execution_count": null,
      "outputs": []
    },
    {
      "cell_type": "code",
      "source": [
        ""
      ],
      "metadata": {
        "id": "HQ4cj3NOHsZH"
      },
      "execution_count": null,
      "outputs": []
    },
    {
      "cell_type": "code",
      "source": [
        "#task 9"
      ],
      "metadata": {
        "id": "XbYUvljpHSP2"
      },
      "execution_count": null,
      "outputs": []
    },
    {
      "cell_type": "code",
      "source": [
        ""
      ],
      "metadata": {
        "id": "qcgWPl8KHsxc"
      },
      "execution_count": null,
      "outputs": []
    },
    {
      "cell_type": "code",
      "source": [
        "#task 10"
      ],
      "metadata": {
        "id": "vgRe1yOoHSMh"
      },
      "execution_count": null,
      "outputs": []
    },
    {
      "cell_type": "code",
      "source": [
        ""
      ],
      "metadata": {
        "id": "qvtY2h8kHSIQ"
      },
      "execution_count": null,
      "outputs": []
    },
    {
      "cell_type": "code",
      "source": [
        ""
      ],
      "metadata": {
        "id": "kLhDil9QHSER"
      },
      "execution_count": null,
      "outputs": []
    },
    {
      "cell_type": "code",
      "source": [
        ""
      ],
      "metadata": {
        "id": "XIW2_fy9HSAK"
      },
      "execution_count": null,
      "outputs": []
    }
  ]
}